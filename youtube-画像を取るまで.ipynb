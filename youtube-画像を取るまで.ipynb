{
 "cells": [
  {
   "cell_type": "code",
   "execution_count": 1,
   "metadata": {},
   "outputs": [
    {
     "name": "stdout",
     "output_type": "stream",
     "text": [
      "Requirement already satisfied: requests-html in /Users/fuyutarow/.pyenv/versions/3.7.4/lib/python3.7/site-packages (0.10.0)\n",
      "Requirement already satisfied: parse in /Users/fuyutarow/.pyenv/versions/3.7.4/lib/python3.7/site-packages (from requests-html) (1.12.1)\n",
      "Requirement already satisfied: pyquery in /Users/fuyutarow/.pyenv/versions/3.7.4/lib/python3.7/site-packages (from requests-html) (1.4.0)\n",
      "Requirement already satisfied: w3lib in /Users/fuyutarow/.pyenv/versions/3.7.4/lib/python3.7/site-packages (from requests-html) (1.21.0)\n",
      "Requirement already satisfied: pyppeteer>=0.0.14 in /Users/fuyutarow/.pyenv/versions/3.7.4/lib/python3.7/site-packages (from requests-html) (0.0.25)\n",
      "Requirement already satisfied: fake-useragent in /Users/fuyutarow/.pyenv/versions/3.7.4/lib/python3.7/site-packages (from requests-html) (0.1.11)\n",
      "Requirement already satisfied: bs4 in /Users/fuyutarow/.pyenv/versions/3.7.4/lib/python3.7/site-packages (from requests-html) (0.0.1)\n",
      "Requirement already satisfied: requests in /Users/fuyutarow/.pyenv/versions/3.7.4/lib/python3.7/site-packages (from requests-html) (2.22.0)\n",
      "Requirement already satisfied: cssselect>0.7.9 in /Users/fuyutarow/.pyenv/versions/3.7.4/lib/python3.7/site-packages (from pyquery->requests-html) (1.1.0)\n",
      "Requirement already satisfied: lxml>=2.1 in /Users/fuyutarow/.pyenv/versions/3.7.4/lib/python3.7/site-packages (from pyquery->requests-html) (4.4.1)\n",
      "Requirement already satisfied: six>=1.4.1 in /Users/fuyutarow/.pyenv/versions/3.7.4/lib/python3.7/site-packages (from w3lib->requests-html) (1.12.0)\n",
      "Requirement already satisfied: urllib3 in /Users/fuyutarow/.pyenv/versions/3.7.4/lib/python3.7/site-packages (from pyppeteer>=0.0.14->requests-html) (1.25.3)\n",
      "Requirement already satisfied: appdirs in /Users/fuyutarow/.pyenv/versions/3.7.4/lib/python3.7/site-packages (from pyppeteer>=0.0.14->requests-html) (1.4.3)\n",
      "Requirement already satisfied: pyee in /Users/fuyutarow/.pyenv/versions/3.7.4/lib/python3.7/site-packages (from pyppeteer>=0.0.14->requests-html) (6.0.0)\n",
      "Requirement already satisfied: tqdm in /Users/fuyutarow/.pyenv/versions/3.7.4/lib/python3.7/site-packages (from pyppeteer>=0.0.14->requests-html) (4.35.0)\n",
      "Requirement already satisfied: websockets in /Users/fuyutarow/.pyenv/versions/3.7.4/lib/python3.7/site-packages (from pyppeteer>=0.0.14->requests-html) (8.0.2)\n",
      "Requirement already satisfied: beautifulsoup4 in /Users/fuyutarow/.pyenv/versions/3.7.4/lib/python3.7/site-packages (from bs4->requests-html) (4.8.0)\n",
      "Requirement already satisfied: idna<2.9,>=2.5 in /Users/fuyutarow/.pyenv/versions/3.7.4/lib/python3.7/site-packages (from requests->requests-html) (2.8)\n",
      "Requirement already satisfied: chardet<3.1.0,>=3.0.2 in /Users/fuyutarow/.pyenv/versions/3.7.4/lib/python3.7/site-packages (from requests->requests-html) (3.0.4)\n",
      "Requirement already satisfied: certifi>=2017.4.17 in /Users/fuyutarow/.pyenv/versions/3.7.4/lib/python3.7/site-packages (from requests->requests-html) (2019.6.16)\n",
      "Requirement already satisfied: soupsieve>=1.2 in /Users/fuyutarow/.pyenv/versions/3.7.4/lib/python3.7/site-packages (from beautifulsoup4->bs4->requests-html) (1.9.3)\n"
     ]
    }
   ],
   "source": [
    "!pip install requests-html"
   ]
  },
  {
   "cell_type": "code",
   "execution_count": 2,
   "metadata": {},
   "outputs": [],
   "source": [
    "from requests_html import HTMLSession"
   ]
  },
  {
   "cell_type": "code",
   "execution_count": 3,
   "metadata": {},
   "outputs": [],
   "source": [
    "s = HTMLSession()"
   ]
  },
  {
   "cell_type": "code",
   "execution_count": 4,
   "metadata": {},
   "outputs": [],
   "source": [
    "r = s.get(\"https://www.youtube.com/watch?v=OO-XLcou_Dw\")"
   ]
  },
  {
   "cell_type": "code",
   "execution_count": 11,
   "metadata": {},
   "outputs": [],
   "source": [
    "import requests\n",
    "import json"
   ]
  },
  {
   "cell_type": "code",
   "execution_count": 12,
   "metadata": {},
   "outputs": [],
   "source": [
    "params = {\n",
    "    'key': '***************************************',\n",
    "    'part': 'snippet',\n",
    "    'videoId': 'yRhQucnI7TY',\n",
    "    'order': 'relevance',\n",
    "    'textFormat': 'plaintext',\n",
    "    'maxResults': 10,\n",
    "}"
   ]
  },
  {
   "cell_type": "code",
   "execution_count": 13,
   "metadata": {},
   "outputs": [
    {
     "data": {
      "text/plain": [
       "<Response [200]>"
      ]
     },
     "execution_count": 13,
     "metadata": {},
     "output_type": "execute_result"
    }
   ],
   "source": [
    "res = requests.get('https://www.googleapis.com/youtube/v3/commentThreads',params= params)\n",
    "res"
   ]
  },
  {
   "cell_type": "code",
   "execution_count": 14,
   "metadata": {
    "scrolled": false
   },
   "outputs": [
    {
     "data": {
      "text/plain": [
       "{'kind': 'youtube#commentThreadListResponse',\n",
       " 'etag': '\"8jEFfXBrqiSrcF6Ee7MQuz8XuAM/C_40aI5ZOaM6zOkHzBDN3bpgCkI\"',\n",
       " 'nextPageToken': 'QURTSl9pMHlvSW1MZ1pYa0RzRkxKbEVxczRsOGJBajJwUWNBTHQtd0czUFl3dldDSnVTYzhhclh0VTZSRHZpMkNrOW1YNjRsaXpCaU5ucW1kd3pidjAwUlRiM0xqc3VadXhvQWVpQ3IycU1qZXFHQU1PR2ttbHo5S2kzYk9MY0NBRFJPVDJoNUxqTExRaTNsZzY2NTJ6Rjd4NkU4MlpVYTI0U2FNekVKVGRaYWFRcy1QUDhXdjQ2cVM1UHc1eGdRMEo0cXpsVGxlUFd4YnRUaW0wb3pTM0plNmdYU19ob2h0LW16UjZ5ejU1NEExeGt3ckt3RDdB',\n",
       " 'pageInfo': {'totalResults': 10, 'resultsPerPage': 10},\n",
       " 'items': [{'kind': 'youtube#commentThread',\n",
       "   'etag': '\"8jEFfXBrqiSrcF6Ee7MQuz8XuAM/h4n-Yep7t7if_d8yFRZ7YPnMbFI\"',\n",
       "   'id': 'UgxfPc09U36ImUmeMVN4AaABAg',\n",
       "   'snippet': {'videoId': 'yRhQucnI7TY',\n",
       "    'topLevelComment': {'kind': 'youtube#comment',\n",
       "     'etag': '\"8jEFfXBrqiSrcF6Ee7MQuz8XuAM/YUrPVHfY9vXveoynlwXa2etXWGw\"',\n",
       "     'id': 'UgxfPc09U36ImUmeMVN4AaABAg',\n",
       "     'snippet': {'authorDisplayName': 'recycle',\n",
       "      'authorProfileImageUrl': 'https://yt3.ggpht.com/-Af3rjecknY4/AAAAAAAAAAI/AAAAAAAAAAA/d8KeK8VMmuc/s28-c-k-no-mo-rj-c0xffffff/photo.jpg',\n",
       "      'authorChannelUrl': 'http://www.youtube.com/channel/UCJsWF8wmvpcGPThO6QcXtgw',\n",
       "      'authorChannelId': {'value': 'UCJsWF8wmvpcGPThO6QcXtgw'},\n",
       "      'videoId': 'yRhQucnI7TY',\n",
       "      'textDisplay': '〈今回のお歌リスト〉\\n\\n4:14 「夏色」ゆず\\n9:43 「ウィーアー」きただにひろし\\n16:11 「気まぐれロマンティック」いきものがかり\\n21:47 「修羅」DOES\\n26:57 「君の知らない物語」Supercell\\n35:19 「青春アミーゴ」修二と彰\\n41:56 「全力少年」スキマスイッチ\\n48:37 「secret base 〜君がくれたもの〜」             ZONE\\n55:30 「世界に一つだけの花」SMAP\\n\\n時間とか間違っている所があったら申し訳ないです 教えてくれると助かります_(。｡)_\\n\\nお歌の放送今回もめちゃくちゃ良かったです！！',\n",
       "      'textOriginal': '〈今回のお歌リスト〉\\n\\n4:14 「夏色」ゆず\\n9:43 「ウィーアー」きただにひろし\\n16:11 「気まぐれロマンティック」いきものがかり\\n21:47 「修羅」DOES\\n26:57 「君の知らない物語」Supercell\\n35:19 「青春アミーゴ」修二と彰\\n41:56 「全力少年」スキマスイッチ\\n48:37 「secret base 〜君がくれたもの〜」             ZONE\\n55:30 「世界に一つだけの花」SMAP\\n\\n時間とか間違っている所があったら申し訳ないです 教えてくれると助かります_(。｡)_\\n\\nお歌の放送今回もめちゃくちゃ良かったです！！',\n",
       "      'canRate': True,\n",
       "      'viewerRating': 'none',\n",
       "      'likeCount': 23,\n",
       "      'publishedAt': '2019-08-31T15:33:14.000Z',\n",
       "      'updatedAt': '2019-08-31T15:36:54.000Z'}},\n",
       "    'canReply': True,\n",
       "    'totalReplyCount': 0,\n",
       "    'isPublic': True}},\n",
       "  {'kind': 'youtube#commentThread',\n",
       "   'etag': '\"8jEFfXBrqiSrcF6Ee7MQuz8XuAM/deytPx4Fb3DxeRZd0WTu1ZrT6tw\"',\n",
       "   'id': 'UgypVJSq4HIxvyTqLh94AaABAg',\n",
       "   'snippet': {'videoId': 'yRhQucnI7TY',\n",
       "    'topLevelComment': {'kind': 'youtube#comment',\n",
       "     'etag': '\"8jEFfXBrqiSrcF6Ee7MQuz8XuAM/GwtfRGgu9m_Fv4VKMWxknIg5jNs\"',\n",
       "     'id': 'UgypVJSq4HIxvyTqLh94AaABAg',\n",
       "     'snippet': {'authorDisplayName': 'ryu 13541919',\n",
       "      'authorProfileImageUrl': 'https://yt3.ggpht.com/-IWzxMGVo_bg/AAAAAAAAAAI/AAAAAAAAAAA/HCDOpDBCFMs/s28-c-k-no-mo-rj-c0xffffff/photo.jpg',\n",
       "      'authorChannelUrl': 'http://www.youtube.com/channel/UCPrn8_R9oTfDJwIAzgzVbGQ',\n",
       "      'authorChannelId': {'value': 'UCPrn8_R9oTfDJwIAzgzVbGQ'},\n",
       "      'videoId': 'yRhQucnI7TY',\n",
       "      'textDisplay': 'もぐもぐ 1:14\\n\\nおかゆ〜 1:38\\n\\n夏色 4:15\\n\\nウィーアー 9:42\\n\\n気まぐれロマンチック 16:12\\n\\n修羅 21:48\\n\\n君の知らない世界 26:57\\n\\n青春アミーゴ 35:15\\n\\n全力少年 41:56\\n\\n君がくれたもの 48:34\\n\\n世界にひとつだけの花 55:30',\n",
       "      'textOriginal': 'もぐもぐ 1:14\\n\\nおかゆ〜 1:38\\n\\n夏色 4:15\\n\\nウィーアー 9:42\\n\\n気まぐれロマンチック 16:12\\n\\n修羅 21:48\\n\\n君の知らない世界 26:57\\n\\n青春アミーゴ 35:15\\n\\n全力少年 41:56\\n\\n君がくれたもの 48:34\\n\\n世界にひとつだけの花 55:30',\n",
       "      'canRate': True,\n",
       "      'viewerRating': 'none',\n",
       "      'likeCount': 11,\n",
       "      'publishedAt': '2019-08-31T15:46:18.000Z',\n",
       "      'updatedAt': '2019-08-31T15:47:06.000Z'}},\n",
       "    'canReply': True,\n",
       "    'totalReplyCount': 0,\n",
       "    'isPublic': True}},\n",
       "  {'kind': 'youtube#commentThread',\n",
       "   'etag': '\"8jEFfXBrqiSrcF6Ee7MQuz8XuAM/tGuqISaU8qf5_Ev-8kS-TS4k01s\"',\n",
       "   'id': 'UgxN_fLuIZoXQwBiPxV4AaABAg',\n",
       "   'snippet': {'videoId': 'yRhQucnI7TY',\n",
       "    'topLevelComment': {'kind': 'youtube#comment',\n",
       "     'etag': '\"8jEFfXBrqiSrcF6Ee7MQuz8XuAM/8G_7UesbDl7SIdE0TU6SR96rQ_4\"',\n",
       "     'id': 'UgxN_fLuIZoXQwBiPxV4AaABAg',\n",
       "     'snippet': {'authorDisplayName': 'ShazaMa Zul',\n",
       "      'authorProfileImageUrl': 'https://yt3.ggpht.com/-M0L7N_RW8hI/AAAAAAAAAAI/AAAAAAAAAAA/SjVT2dQvHyo/s28-c-k-no-mo-rj-c0xffffff/photo.jpg',\n",
       "      'authorChannelUrl': 'http://www.youtube.com/channel/UCwUf5qgLdlv1F79CXpge_WQ',\n",
       "      'authorChannelId': {'value': 'UCwUf5qgLdlv1F79CXpge_WQ'},\n",
       "      'videoId': 'yRhQucnI7TY',\n",
       "      'textDisplay': \"Am sick and don't feel very well.\\nBut this put me at ease to sleep.. ~ <3\\nArigatou na Okayu mogumogu.. ~\",\n",
       "      'textOriginal': \"Am sick and don't feel very well.\\nBut this put me at ease to sleep.. ~ <3\\nArigatou na Okayu mogumogu.. ~\",\n",
       "      'canRate': True,\n",
       "      'viewerRating': 'none',\n",
       "      'likeCount': 1,\n",
       "      'publishedAt': '2019-09-01T02:02:36.000Z',\n",
       "      'updatedAt': '2019-09-01T02:02:36.000Z'}},\n",
       "    'canReply': True,\n",
       "    'totalReplyCount': 0,\n",
       "    'isPublic': True}},\n",
       "  {'kind': 'youtube#commentThread',\n",
       "   'etag': '\"8jEFfXBrqiSrcF6Ee7MQuz8XuAM/oGIwI8-qpTHdhYVs8NW-wbut8BE\"',\n",
       "   'id': 'UgzRXN-J7Y3VyrCBZW54AaABAg',\n",
       "   'snippet': {'videoId': 'yRhQucnI7TY',\n",
       "    'topLevelComment': {'kind': 'youtube#comment',\n",
       "     'etag': '\"8jEFfXBrqiSrcF6Ee7MQuz8XuAM/e-9VBFFs750j9VBqy7-2uChrUto\"',\n",
       "     'id': 'UgzRXN-J7Y3VyrCBZW54AaABAg',\n",
       "     'snippet': {'authorDisplayName': '猫葉',\n",
       "      'authorProfileImageUrl': 'https://yt3.ggpht.com/-3KAQa1Ugsjc/AAAAAAAAAAI/AAAAAAAAAAA/oaxJAMutuFk/s28-c-k-no-mo-rj-c0xffffff/photo.jpg',\n",
       "      'authorChannelUrl': 'http://www.youtube.com/channel/UCxVQalhPFpuVyg97qcS0nDQ',\n",
       "      'authorChannelId': {'value': 'UCxVQalhPFpuVyg97qcS0nDQ'},\n",
       "      'videoId': 'yRhQucnI7TY',\n",
       "      'textDisplay': '歌ってる時にリズムに乗って横揺れしてるの、めっちゃ可愛い٩(≧∀≦)ง♡',\n",
       "      'textOriginal': '歌ってる時にリズムに乗って横揺れしてるの、めっちゃ可愛い٩(≧∀≦)ง♡',\n",
       "      'canRate': True,\n",
       "      'viewerRating': 'none',\n",
       "      'likeCount': 3,\n",
       "      'publishedAt': '2019-08-31T17:07:24.000Z',\n",
       "      'updatedAt': '2019-08-31T17:07:24.000Z'}},\n",
       "    'canReply': True,\n",
       "    'totalReplyCount': 0,\n",
       "    'isPublic': True}},\n",
       "  {'kind': 'youtube#commentThread',\n",
       "   'etag': '\"8jEFfXBrqiSrcF6Ee7MQuz8XuAM/VbLlWBgcDOPKYaDdaCVJ_9ZEbBc\"',\n",
       "   'id': 'Ugz4l2ck2lAok4Y83JB4AaABAg',\n",
       "   'snippet': {'videoId': 'yRhQucnI7TY',\n",
       "    'topLevelComment': {'kind': 'youtube#comment',\n",
       "     'etag': '\"8jEFfXBrqiSrcF6Ee7MQuz8XuAM/57cvr-Bf-7rt1EFfhNL2VL_e_Lo\"',\n",
       "     'id': 'Ugz4l2ck2lAok4Y83JB4AaABAg',\n",
       "     'snippet': {'authorDisplayName': 'aflatchested yandere',\n",
       "      'authorProfileImageUrl': 'https://yt3.ggpht.com/-SRgr89Aug4s/AAAAAAAAAAI/AAAAAAAAAAA/1FYWYsSYvzw/s28-c-k-no-mo-rj-c0xffffff/photo.jpg',\n",
       "      'authorChannelUrl': 'http://www.youtube.com/channel/UCXb4gTT2cLjKp-oddFc87DA',\n",
       "      'authorChannelId': {'value': 'UCXb4gTT2cLjKp-oddFc87DA'},\n",
       "      'videoId': 'yRhQucnI7TY',\n",
       "      'textDisplay': 'A great way to end summer~',\n",
       "      'textOriginal': 'A great way to end summer~',\n",
       "      'canRate': True,\n",
       "      'viewerRating': 'none',\n",
       "      'likeCount': 1,\n",
       "      'publishedAt': '2019-08-31T15:45:36.000Z',\n",
       "      'updatedAt': '2019-08-31T15:45:36.000Z'}},\n",
       "    'canReply': True,\n",
       "    'totalReplyCount': 0,\n",
       "    'isPublic': True}},\n",
       "  {'kind': 'youtube#commentThread',\n",
       "   'etag': '\"8jEFfXBrqiSrcF6Ee7MQuz8XuAM/_Il4RYSFv79VjDnNN1wQ_VjaZHU\"',\n",
       "   'id': 'UgwEQQDFiVTIVQ9p-N14AaABAg',\n",
       "   'snippet': {'videoId': 'yRhQucnI7TY',\n",
       "    'topLevelComment': {'kind': 'youtube#comment',\n",
       "     'etag': '\"8jEFfXBrqiSrcF6Ee7MQuz8XuAM/xDzfxqwx30fh99c2b3cfY7Bvo3A\"',\n",
       "     'id': 'UgwEQQDFiVTIVQ9p-N14AaABAg',\n",
       "     'snippet': {'authorDisplayName': 'ゆきふゆ',\n",
       "      'authorProfileImageUrl': 'https://yt3.ggpht.com/-tIPhspEACB0/AAAAAAAAAAI/AAAAAAAAAAA/oCRI_aSFuQY/s28-c-k-no-mo-rj-c0xffffff/photo.jpg',\n",
       "      'authorChannelUrl': 'http://www.youtube.com/channel/UChmI9izkngyYpR-dAxick0g',\n",
       "      'authorChannelId': {'value': 'UChmI9izkngyYpR-dAxick0g'},\n",
       "      'videoId': 'yRhQucnI7TY',\n",
       "      'textDisplay': '最近、配信時間早いな。ウルトラハイパーハイパーハイパー助かる',\n",
       "      'textOriginal': '最近、配信時間早いな。ウルトラハイパーハイパーハイパー助かる',\n",
       "      'canRate': True,\n",
       "      'viewerRating': 'none',\n",
       "      'likeCount': 1,\n",
       "      'publishedAt': '2019-08-31T14:26:53.000Z',\n",
       "      'updatedAt': '2019-08-31T14:26:53.000Z'}},\n",
       "    'canReply': True,\n",
       "    'totalReplyCount': 0,\n",
       "    'isPublic': True}},\n",
       "  {'kind': 'youtube#commentThread',\n",
       "   'etag': '\"8jEFfXBrqiSrcF6Ee7MQuz8XuAM/CcXVHtnjKfSQ1UmZk_iUzovvgi8\"',\n",
       "   'id': 'UgxNyH2YD2Np9OHpoeF4AaABAg',\n",
       "   'snippet': {'videoId': 'yRhQucnI7TY',\n",
       "    'topLevelComment': {'kind': 'youtube#comment',\n",
       "     'etag': '\"8jEFfXBrqiSrcF6Ee7MQuz8XuAM/82WMr_hfwJm1S3D8dPFk8UVC_K4\"',\n",
       "     'id': 'UgxNyH2YD2Np9OHpoeF4AaABAg',\n",
       "     'snippet': {'authorDisplayName': 'T. A.',\n",
       "      'authorProfileImageUrl': 'https://yt3.ggpht.com/-cLvx_KsCSpI/AAAAAAAAAAI/AAAAAAAAAAA/MF4Vx1f-XiY/s28-c-k-no-mo-rj-c0xffffff/photo.jpg',\n",
       "      'authorChannelUrl': 'http://www.youtube.com/channel/UCzYYpOVcudDX2sKWUDTk8kw',\n",
       "      'authorChannelId': {'value': 'UCzYYpOVcudDX2sKWUDTk8kw'},\n",
       "      'videoId': 'yRhQucnI7TY',\n",
       "      'textDisplay': '青春アミーゴ懐かしすぎる、当時小学だった気がするけどめっちゃ好きだったな',\n",
       "      'textOriginal': '青春アミーゴ懐かしすぎる、当時小学だった気がするけどめっちゃ好きだったな',\n",
       "      'canRate': True,\n",
       "      'viewerRating': 'none',\n",
       "      'likeCount': 1,\n",
       "      'publishedAt': '2019-08-31T15:31:45.000Z',\n",
       "      'updatedAt': '2019-08-31T15:31:45.000Z'}},\n",
       "    'canReply': True,\n",
       "    'totalReplyCount': 0,\n",
       "    'isPublic': True}},\n",
       "  {'kind': 'youtube#commentThread',\n",
       "   'etag': '\"8jEFfXBrqiSrcF6Ee7MQuz8XuAM/TXndIDk8tjoDUsQ79y7Yi6lA6rk\"',\n",
       "   'id': 'UgzEqXEEX6_44YQtO1x4AaABAg',\n",
       "   'snippet': {'videoId': 'yRhQucnI7TY',\n",
       "    'topLevelComment': {'kind': 'youtube#comment',\n",
       "     'etag': '\"8jEFfXBrqiSrcF6Ee7MQuz8XuAM/fgTyFOzDEJCGO7JXhG3zV35dsEE\"',\n",
       "     'id': 'UgzEqXEEX6_44YQtO1x4AaABAg',\n",
       "     'snippet': {'authorDisplayName': 'うたたねこ',\n",
       "      'authorProfileImageUrl': 'https://yt3.ggpht.com/-km1MHrlF1Bk/AAAAAAAAAAI/AAAAAAAAAAA/grTWC5Ly3pU/s28-c-k-no-mo-rj-c0xffffff/photo.jpg',\n",
       "      'authorChannelUrl': 'http://www.youtube.com/channel/UCAjGXcBQ4BEYG-tCRQGezjA',\n",
       "      'authorChannelId': {'value': 'UCAjGXcBQ4BEYG-tCRQGezjA'},\n",
       "      'videoId': 'yRhQucnI7TY',\n",
       "      'textDisplay': '懐かしい曲をありがとう!\\n相変わらずいい歌声だな\\nボイスだけじゃなくて歌の方も販売されないかな',\n",
       "      'textOriginal': '懐かしい曲をありがとう!\\n相変わらずいい歌声だな\\nボイスだけじゃなくて歌の方も販売されないかな',\n",
       "      'canRate': True,\n",
       "      'viewerRating': 'none',\n",
       "      'likeCount': 1,\n",
       "      'publishedAt': '2019-08-31T15:46:46.000Z',\n",
       "      'updatedAt': '2019-08-31T15:46:46.000Z'}},\n",
       "    'canReply': True,\n",
       "    'totalReplyCount': 0,\n",
       "    'isPublic': True}},\n",
       "  {'kind': 'youtube#commentThread',\n",
       "   'etag': '\"8jEFfXBrqiSrcF6Ee7MQuz8XuAM/XKu7i9B-oWay_C1D_dToIloZwHM\"',\n",
       "   'id': 'UgyuUzs9E_ejTSL8co94AaABAg',\n",
       "   'snippet': {'videoId': 'yRhQucnI7TY',\n",
       "    'topLevelComment': {'kind': 'youtube#comment',\n",
       "     'etag': '\"8jEFfXBrqiSrcF6Ee7MQuz8XuAM/BBV-zl-ZcRhwKjAnhYS3EIdr75Y\"',\n",
       "     'id': 'UgyuUzs9E_ejTSL8co94AaABAg',\n",
       "     'snippet': {'authorDisplayName': 'かとじゅん',\n",
       "      'authorProfileImageUrl': 'https://yt3.ggpht.com/-PyrLPrH6Guk/AAAAAAAAAAI/AAAAAAAAAAA/8DuhS9JseaI/s28-c-k-no-mo-rj-c0xffffff/photo.jpg',\n",
       "      'authorChannelUrl': 'http://www.youtube.com/channel/UCty4eDahqSiBcah9Iv9S5Vw',\n",
       "      'authorChannelId': {'value': 'UCty4eDahqSiBcah9Iv9S5Vw'},\n",
       "      'videoId': 'yRhQucnI7TY',\n",
       "      'textDisplay': 'おかゆん歌めっちゃよかったよー\\n限界化してごめんね',\n",
       "      'textOriginal': 'おかゆん歌めっちゃよかったよー\\n限界化してごめんね',\n",
       "      'canRate': True,\n",
       "      'viewerRating': 'none',\n",
       "      'likeCount': 1,\n",
       "      'publishedAt': '2019-08-31T14:08:53.000Z',\n",
       "      'updatedAt': '2019-08-31T14:08:53.000Z'}},\n",
       "    'canReply': True,\n",
       "    'totalReplyCount': 0,\n",
       "    'isPublic': True}},\n",
       "  {'kind': 'youtube#commentThread',\n",
       "   'etag': '\"8jEFfXBrqiSrcF6Ee7MQuz8XuAM/NSFZKnIBWSzN9EWsIHGDT5EkGUw\"',\n",
       "   'id': 'UgyxtyQ4UqmPf7rFbzd4AaABAg',\n",
       "   'snippet': {'videoId': 'yRhQucnI7TY',\n",
       "    'topLevelComment': {'kind': 'youtube#comment',\n",
       "     'etag': '\"8jEFfXBrqiSrcF6Ee7MQuz8XuAM/_VURlPkMFb2H7AVjPac8qnMEfW8\"',\n",
       "     'id': 'UgyxtyQ4UqmPf7rFbzd4AaABAg',\n",
       "     'snippet': {'authorDisplayName': 'maki akira',\n",
       "      'authorProfileImageUrl': 'https://yt3.ggpht.com/-speoLZ01Sgk/AAAAAAAAAAI/AAAAAAAAAAA/cFJI-_qCSAY/s28-c-k-no-mo-rj-c0xffffff/photo.jpg',\n",
       "      'authorChannelUrl': 'http://www.youtube.com/channel/UC5gdvcNi4rj54Y-F9FIx3tw',\n",
       "      'authorChannelId': {'value': 'UC5gdvcNi4rj54Y-F9FIx3tw'},\n",
       "      'videoId': 'yRhQucnI7TY',\n",
       "      'textDisplay': 'お疲れ様ですおかゆーかっこよ可愛いすぎるわー',\n",
       "      'textOriginal': 'お疲れ様ですおかゆーかっこよ可愛いすぎるわー',\n",
       "      'canRate': True,\n",
       "      'viewerRating': 'none',\n",
       "      'likeCount': 1,\n",
       "      'publishedAt': '2019-08-31T15:43:18.000Z',\n",
       "      'updatedAt': '2019-08-31T15:43:18.000Z'}},\n",
       "    'canReply': True,\n",
       "    'totalReplyCount': 0,\n",
       "    'isPublic': True}}]}"
      ]
     },
     "execution_count": 14,
     "metadata": {},
     "output_type": "execute_result"
    }
   ],
   "source": [
    "res.json()"
   ]
  },
  {
   "cell_type": "code",
   "execution_count": 16,
   "metadata": {},
   "outputs": [
    {
     "data": {
      "text/plain": [
       "'youtube#commentThreadListResponse'"
      ]
     },
     "execution_count": 16,
     "metadata": {},
     "output_type": "execute_result"
    }
   ],
   "source": [
    "res.json()[\"kind\"]"
   ]
  },
  {
   "cell_type": "code",
   "execution_count": 19,
   "metadata": {},
   "outputs": [
    {
     "data": {
      "text/plain": [
       "{'kind': 'youtube#commentThread',\n",
       " 'etag': '\"8jEFfXBrqiSrcF6Ee7MQuz8XuAM/h4n-Yep7t7if_d8yFRZ7YPnMbFI\"',\n",
       " 'id': 'UgxfPc09U36ImUmeMVN4AaABAg',\n",
       " 'snippet': {'videoId': 'yRhQucnI7TY',\n",
       "  'topLevelComment': {'kind': 'youtube#comment',\n",
       "   'etag': '\"8jEFfXBrqiSrcF6Ee7MQuz8XuAM/YUrPVHfY9vXveoynlwXa2etXWGw\"',\n",
       "   'id': 'UgxfPc09U36ImUmeMVN4AaABAg',\n",
       "   'snippet': {'authorDisplayName': 'recycle',\n",
       "    'authorProfileImageUrl': 'https://yt3.ggpht.com/-Af3rjecknY4/AAAAAAAAAAI/AAAAAAAAAAA/d8KeK8VMmuc/s28-c-k-no-mo-rj-c0xffffff/photo.jpg',\n",
       "    'authorChannelUrl': 'http://www.youtube.com/channel/UCJsWF8wmvpcGPThO6QcXtgw',\n",
       "    'authorChannelId': {'value': 'UCJsWF8wmvpcGPThO6QcXtgw'},\n",
       "    'videoId': 'yRhQucnI7TY',\n",
       "    'textDisplay': '〈今回のお歌リスト〉\\n\\n4:14 「夏色」ゆず\\n9:43 「ウィーアー」きただにひろし\\n16:11 「気まぐれロマンティック」いきものがかり\\n21:47 「修羅」DOES\\n26:57 「君の知らない物語」Supercell\\n35:19 「青春アミーゴ」修二と彰\\n41:56 「全力少年」スキマスイッチ\\n48:37 「secret base 〜君がくれたもの〜」             ZONE\\n55:30 「世界に一つだけの花」SMAP\\n\\n時間とか間違っている所があったら申し訳ないです 教えてくれると助かります_(。｡)_\\n\\nお歌の放送今回もめちゃくちゃ良かったです！！',\n",
       "    'textOriginal': '〈今回のお歌リスト〉\\n\\n4:14 「夏色」ゆず\\n9:43 「ウィーアー」きただにひろし\\n16:11 「気まぐれロマンティック」いきものがかり\\n21:47 「修羅」DOES\\n26:57 「君の知らない物語」Supercell\\n35:19 「青春アミーゴ」修二と彰\\n41:56 「全力少年」スキマスイッチ\\n48:37 「secret base 〜君がくれたもの〜」             ZONE\\n55:30 「世界に一つだけの花」SMAP\\n\\n時間とか間違っている所があったら申し訳ないです 教えてくれると助かります_(。｡)_\\n\\nお歌の放送今回もめちゃくちゃ良かったです！！',\n",
       "    'canRate': True,\n",
       "    'viewerRating': 'none',\n",
       "    'likeCount': 23,\n",
       "    'publishedAt': '2019-08-31T15:33:14.000Z',\n",
       "    'updatedAt': '2019-08-31T15:36:54.000Z'}},\n",
       "  'canReply': True,\n",
       "  'totalReplyCount': 0,\n",
       "  'isPublic': True}}"
      ]
     },
     "execution_count": 19,
     "metadata": {},
     "output_type": "execute_result"
    }
   ],
   "source": [
    "item, *_ = res.json()[\"items\"]\n",
    "item"
   ]
  },
  {
   "cell_type": "code",
   "execution_count": 20,
   "metadata": {},
   "outputs": [
    {
     "data": {
      "text/plain": [
       "{'videoId': 'yRhQucnI7TY',\n",
       " 'topLevelComment': {'kind': 'youtube#comment',\n",
       "  'etag': '\"8jEFfXBrqiSrcF6Ee7MQuz8XuAM/YUrPVHfY9vXveoynlwXa2etXWGw\"',\n",
       "  'id': 'UgxfPc09U36ImUmeMVN4AaABAg',\n",
       "  'snippet': {'authorDisplayName': 'recycle',\n",
       "   'authorProfileImageUrl': 'https://yt3.ggpht.com/-Af3rjecknY4/AAAAAAAAAAI/AAAAAAAAAAA/d8KeK8VMmuc/s28-c-k-no-mo-rj-c0xffffff/photo.jpg',\n",
       "   'authorChannelUrl': 'http://www.youtube.com/channel/UCJsWF8wmvpcGPThO6QcXtgw',\n",
       "   'authorChannelId': {'value': 'UCJsWF8wmvpcGPThO6QcXtgw'},\n",
       "   'videoId': 'yRhQucnI7TY',\n",
       "   'textDisplay': '〈今回のお歌リスト〉\\n\\n4:14 「夏色」ゆず\\n9:43 「ウィーアー」きただにひろし\\n16:11 「気まぐれロマンティック」いきものがかり\\n21:47 「修羅」DOES\\n26:57 「君の知らない物語」Supercell\\n35:19 「青春アミーゴ」修二と彰\\n41:56 「全力少年」スキマスイッチ\\n48:37 「secret base 〜君がくれたもの〜」             ZONE\\n55:30 「世界に一つだけの花」SMAP\\n\\n時間とか間違っている所があったら申し訳ないです 教えてくれると助かります_(。｡)_\\n\\nお歌の放送今回もめちゃくちゃ良かったです！！',\n",
       "   'textOriginal': '〈今回のお歌リスト〉\\n\\n4:14 「夏色」ゆず\\n9:43 「ウィーアー」きただにひろし\\n16:11 「気まぐれロマンティック」いきものがかり\\n21:47 「修羅」DOES\\n26:57 「君の知らない物語」Supercell\\n35:19 「青春アミーゴ」修二と彰\\n41:56 「全力少年」スキマスイッチ\\n48:37 「secret base 〜君がくれたもの〜」             ZONE\\n55:30 「世界に一つだけの花」SMAP\\n\\n時間とか間違っている所があったら申し訳ないです 教えてくれると助かります_(。｡)_\\n\\nお歌の放送今回もめちゃくちゃ良かったです！！',\n",
       "   'canRate': True,\n",
       "   'viewerRating': 'none',\n",
       "   'likeCount': 23,\n",
       "   'publishedAt': '2019-08-31T15:33:14.000Z',\n",
       "   'updatedAt': '2019-08-31T15:36:54.000Z'}},\n",
       " 'canReply': True,\n",
       " 'totalReplyCount': 0,\n",
       " 'isPublic': True}"
      ]
     },
     "execution_count": 20,
     "metadata": {},
     "output_type": "execute_result"
    }
   ],
   "source": [
    "item['snippet']"
   ]
  },
  {
   "cell_type": "code",
   "execution_count": 22,
   "metadata": {},
   "outputs": [
    {
     "data": {
      "text/plain": [
       "{'kind': 'youtube#comment',\n",
       " 'etag': '\"8jEFfXBrqiSrcF6Ee7MQuz8XuAM/YUrPVHfY9vXveoynlwXa2etXWGw\"',\n",
       " 'id': 'UgxfPc09U36ImUmeMVN4AaABAg',\n",
       " 'snippet': {'authorDisplayName': 'recycle',\n",
       "  'authorProfileImageUrl': 'https://yt3.ggpht.com/-Af3rjecknY4/AAAAAAAAAAI/AAAAAAAAAAA/d8KeK8VMmuc/s28-c-k-no-mo-rj-c0xffffff/photo.jpg',\n",
       "  'authorChannelUrl': 'http://www.youtube.com/channel/UCJsWF8wmvpcGPThO6QcXtgw',\n",
       "  'authorChannelId': {'value': 'UCJsWF8wmvpcGPThO6QcXtgw'},\n",
       "  'videoId': 'yRhQucnI7TY',\n",
       "  'textDisplay': '〈今回のお歌リスト〉\\n\\n4:14 「夏色」ゆず\\n9:43 「ウィーアー」きただにひろし\\n16:11 「気まぐれロマンティック」いきものがかり\\n21:47 「修羅」DOES\\n26:57 「君の知らない物語」Supercell\\n35:19 「青春アミーゴ」修二と彰\\n41:56 「全力少年」スキマスイッチ\\n48:37 「secret base 〜君がくれたもの〜」             ZONE\\n55:30 「世界に一つだけの花」SMAP\\n\\n時間とか間違っている所があったら申し訳ないです 教えてくれると助かります_(。｡)_\\n\\nお歌の放送今回もめちゃくちゃ良かったです！！',\n",
       "  'textOriginal': '〈今回のお歌リスト〉\\n\\n4:14 「夏色」ゆず\\n9:43 「ウィーアー」きただにひろし\\n16:11 「気まぐれロマンティック」いきものがかり\\n21:47 「修羅」DOES\\n26:57 「君の知らない物語」Supercell\\n35:19 「青春アミーゴ」修二と彰\\n41:56 「全力少年」スキマスイッチ\\n48:37 「secret base 〜君がくれたもの〜」             ZONE\\n55:30 「世界に一つだけの花」SMAP\\n\\n時間とか間違っている所があったら申し訳ないです 教えてくれると助かります_(。｡)_\\n\\nお歌の放送今回もめちゃくちゃ良かったです！！',\n",
       "  'canRate': True,\n",
       "  'viewerRating': 'none',\n",
       "  'likeCount': 23,\n",
       "  'publishedAt': '2019-08-31T15:33:14.000Z',\n",
       "  'updatedAt': '2019-08-31T15:36:54.000Z'}}"
      ]
     },
     "execution_count": 22,
     "metadata": {},
     "output_type": "execute_result"
    }
   ],
   "source": [
    "item['snippet']['topLevelComment']"
   ]
  },
  {
   "cell_type": "code",
   "execution_count": 27,
   "metadata": {},
   "outputs": [
    {
     "data": {
      "text/plain": [
       "'https://yt3.ggpht.com/-Af3rjecknY4/AAAAAAAAAAI/AAAAAAAAAAA/d8KeK8VMmuc/s28-c-k-no-mo-rj-c0xffffff/photo.jpg'"
      ]
     },
     "execution_count": 27,
     "metadata": {},
     "output_type": "execute_result"
    }
   ],
   "source": [
    "item['snippet']['topLevelComment']['snippet']['authorProfileImageUrl']"
   ]
  },
  {
   "cell_type": "code",
   "execution_count": 28,
   "metadata": {},
   "outputs": [
    {
     "name": "stdout",
     "output_type": "stream",
     "text": [
      "Requirement already satisfied: requests in /Users/fuyutarow/.pyenv/versions/3.7.4/lib/python3.7/site-packages (2.22.0)\r\n",
      "Requirement already satisfied: chardet<3.1.0,>=3.0.2 in /Users/fuyutarow/.pyenv/versions/3.7.4/lib/python3.7/site-packages (from requests) (3.0.4)\r\n",
      "Requirement already satisfied: idna<2.9,>=2.5 in /Users/fuyutarow/.pyenv/versions/3.7.4/lib/python3.7/site-packages (from requests) (2.8)\r\n",
      "Requirement already satisfied: certifi>=2017.4.17 in /Users/fuyutarow/.pyenv/versions/3.7.4/lib/python3.7/site-packages (from requests) (2019.6.16)\r\n",
      "Requirement already satisfied: urllib3!=1.25.0,!=1.25.1,<1.26,>=1.21.1 in /Users/fuyutarow/.pyenv/versions/3.7.4/lib/python3.7/site-packages (from requests) (1.25.3)\r\n"
     ]
    }
   ],
   "source": [
    "!pip install requests"
   ]
  },
  {
   "cell_type": "code",
   "execution_count": 29,
   "metadata": {},
   "outputs": [],
   "source": [
    "import requests"
   ]
  },
  {
   "cell_type": "code",
   "execution_count": 30,
   "metadata": {},
   "outputs": [
    {
     "data": {
      "text/plain": [
       "<Response [200]>"
      ]
     },
     "execution_count": 30,
     "metadata": {},
     "output_type": "execute_result"
    }
   ],
   "source": [
    "imgurl = item['snippet']['topLevelComment']['snippet']['authorProfileImageUrl']\n",
    "requests.get(imgurl)"
   ]
  },
  {
   "cell_type": "code",
   "execution_count": 34,
   "metadata": {},
   "outputs": [
    {
     "data": {
      "text/plain": [
       "b'\\xff\\xd8\\xff\\xe0\\x00\\x10JFIF\\x00\\x01\\x01\\x00\\x00\\x01\\x00\\x01\\x00\\x00\\xff\\xe1\\x00~Exif\\x00\\x00II*\\x00\\x08\\x00\\x00\\x00\\x02\\x001\\x01\\x02\\x00\\x07\\x00\\x00\\x00&\\x00\\x00\\x00i\\x87\\x04\\x00\\x01\\x00\\x00\\x00.\\x00\\x00\\x00\\x00\\x00\\x00\\x00Google\\x00\\x00\\x03\\x00\\x00\\x90\\x07\\x00\\x04\\x00\\x00\\x000220\\x01\\xa0\\x03\\x00\\x01\\x00\\x00\\x00\\x01\\x00\\x00\\x00\\x05\\xa0\\x04\\x00\\x01\\x00\\x00\\x00X\\x00\\x00\\x00\\x00\\x00\\x00\\x00\\x02\\x00\\x01\\x00\\x02\\x00\\x04\\x00\\x00\\x00R98\\x00\\x02\\x00\\x07\\x00\\x04\\x00\\x00\\x000100\\x00\\x00\\x00\\x00\\xff\\xdb\\x00\\x84\\x00\\x03\\x02\\x02\\x03\\x02\\x02\\x03\\x03\\x03\\x03\\x04\\x03\\x03\\x04\\x05\\x08\\x05\\x05\\x04\\x04\\x05\\n\\x07\\x07\\x06\\x08\\x0c\\n\\x0c\\x0c\\x0b\\n\\x0b\\x0b\\r\\x0e\\x12\\x10\\r\\x0e\\x11\\x0e\\x0b\\x0b\\x10\\x16\\x10\\x11\\x13\\x14\\x15\\x15\\x15\\x0c\\x0f\\x17\\x18\\x16\\x14\\x18\\x12\\x14\\x15\\x14\\x01\\x03\\x04\\x04\\x05\\x04\\x05\\t\\x05\\x05\\t\\x14\\r\\x0b\\r\\x14\\x14\\x14\\x14\\x14\\x14\\x14\\x14\\x14\\x14\\x14\\x14\\x14\\x14\\x14\\x14\\x14\\x14\\x14\\x14\\x14\\x14\\x12\\x14\\x14\\x14\\x14\\x14\\x14\\x14\\x14\\x14\\x14\\x14\\x14\\x14\\x14\\x14\\x14\\x14\\x0f\\x14\\x10\\x14\\x13\\x14\\x14\\x14\\x14\\x14\\xff\\xc0\\x00\\x11\\x08\\x00\\x1c\\x00\\x1c\\x03\\x01\\x11\\x00\\x02\\x11\\x01\\x03\\x11\\x01\\xff\\xc4\\x00\\x19\\x00\\x01\\x00\\x03\\x01\\x01\\x00\\x00\\x00\\x00\\x00\\x00\\x00\\x00\\x00\\x00\\x00\\x08\\x05\\x06\\t\\x07\\x03\\xff\\xc4\\x00)\\x10\\x00\\x02\\x02\\x01\\x03\\x03\\x04\\x01\\x05\\x01\\x00\\x00\\x00\\x00\\x00\\x00\\x01\\x02\\x03\\x04\\x05\\x06\\x11\\x12\\x00\\x07!\\x08\\x131A\\x14\\x15\"Qa\\x912\\xff\\xc4\\x00\\x1a\\x01\\x00\\x01\\x05\\x01\\x00\\x00\\x00\\x00\\x00\\x00\\x00\\x00\\x00\\x00\\x00\\x00\\x06\\x03\\x04\\x05\\x07\\x08\\x02\\xff\\xc4\\x00.\\x11\\x00\\x01\\x03\\x03\\x03\\x02\\x05\\x02\\x07\\x01\\x00\\x00\\x00\\x00\\x00\\x00\\x01\\x02\\x03\\x11\\x00\\x04!\\x05\\x12A\\x06q\\x1312QaR\\xc1\\x14\"#\\x81\\x91\\xa1\\xa2\\x15\\xff\\xda\\x00\\x0c\\x03\\x01\\x00\\x02\\x11\\x03\\x11\\x00?\\x00Vw\\xeb\\xd4>^\\xce\\xa4\\xc9h\\xed\\x17q\\xb1+\\x8a\\x94\\xd6\\xcce\\x8c[\\xcaeh\\xc1\\xfcx\\x01\\xd8\\xa9\\t\"\\xb9\\x98|\\x12\\x81w\\xfd\\xfcY\\xbfq\\xe1\\x1d\\xa0f\\xab^\\xaa\\xea\\xd3\\xa2,ZZ\\xa6]\"L\\xf9$\\x19\\x8e\\xe6\\x7flg\\xce\\x8f\\x19]5OQ\\xdb\\xfc\\xcc\\xfbO\\xa92\\x1cD\\x7f\\x9d\\x98\\x99\\xac\\xcePo\\xb2\\xf3o;\\r\\xce\\xc3\\xfb=G\\x1b\\x87I\\x9d\\xd5L\\xdcuV\\xb5r\\xbf\\x11W*O\\xc2N\\xd1\\xfc\\x08\\x15j\\xd1\\xfa\\xf3Yv\\xd6H\\x1bMj\\x1bOJ\\xba\\xa4i\\x84\\xcaL\\xd3Q\\xf6S\\xfea\\x8dN\\xfe\\xc2\\xf8\\x0b\\xc9\\x01 |\\x0e\\x95E\\xda\\xd3\\xea\\xc8\\xa2\\x1d3\\xaf5+E%7_\\xaa\\x81\\x03>\\xa8\\xe4\\xcf\\'\\xbc\\xd3W\\xb5\\x1d\\xcc\\xc5\\xf7{CQ\\xd4\\xd8\\x98\\xe7\\xaf\\x04\\xef5y\\xabY]\\xa4\\xafb\\x19Z\\x19\\xe1b7V),n\\x9c\\x94\\x95<wRA\\x07\\xa9d\\x9d\\xc0(V\\x87\\xb7}\\xbb\\xa6Qp\\xd1\\x94\\xac\\x02;\\x11\"\\xb3\\xe7\\x1f=\\xca:N[8\\xcau\\xef_\\xb9\\x05\\x89\\xe3\\xafi\\xb8\\xc6\\x92Z\\xe6\\xc5\\x81\\xfa1\\x99\\x8b\\xa1\\xfec^\\xb8\\xd2\\x1c\\xb2\\x1a\\xa3NjXd\\x19V7`q\\x1c\\x82`\\x1f\\x82k.\\x8b\\xebwu\\xf5_j\\r\\x82\\xd1Z\\xa4F\\xe1\\xe4@\\xc70`\\xf7\\xcdLE\\x1b~2#\\xb1\\x0f\\xc0+0>w\\xdb\\xc9\\xea\\r\\xd2\\x92\\xe2\\x8a<\\xa4\\xc7\\xda\\x83\\xdd\\x85\\x15m\\xe6k\\xc6\\x85\\xcb\\xf9\\x16\\xb9s#J\\xb62\\xc5\\xabsN(\\xd3~P\\xd7FrU\\x13\\xf8P6\\xd8}u9\\xae/O]\\xd8\\xff\\x00\\x98e\\xb0\\x94\\x89\\x8d\\xa4\\x902H\\xf7\\'\\x9ej{Zz\\xd2\\xe6\\xf1OX %\\xa8\\x18\\x02\\x001\\x9cw\\xaa\\xb6S\\xbe\\x99\\x0e\\xc6g2Tq\\xd8\\xaa\\x995\\xcc\\xca\\x99i^\\xdb\\xb2\\x98\\xdf\\xda\\x8e\\xb7\\x05\\xe3\\xf5\\xc6\\xb2\\x9f>wc\\xf5\\xb7L\\xad\\x9c\\xda\\x88\\x8a\\xb5z7Yq\\x8d/\\xc0\\x08\\x04%Dy\\x9ea_z\\xb9e\\xb4T\\x9a\\x03[f\\xf0\\x19\\n\\xca\\xb9\\x0ct\\xf2\\n\\xd6\\x9a \\x86zR9\\x92&\\x8f\\xe4\\x88\\x97\\x93F\\x06\\xfb\\x03\\x11\\xf8\\x1bt\\xde\\xe1\\x05\\x0b>\\xc6\\x85:\\xc9\\xbdCO}V\\x1e*\\xbf\\x08\\xb5x\\xa8nHh,\\x88$\"vo\\x00\\xc1P\\x13\\x07\\xd8\\xd4\\x05\\x8d\\x1e,f\\x93+\\xfa\\xc6Z+\\x89*\\xb2,w\\x1cW\\x11\\x83\\xe6#_\\x7fi\\x81^K\\xc9\\x90\\xb8\\xe5\\xb8`\\xca\\xa47\\xdd\\x88\\x8a\\rF\\xa1\\xb1\\x8f\\xc3\\xf8()#\\xe9\\x1b\\xa7\\xea\\xdf\\xeb\\x10`\\xc0PN \\x82\\t\\x06jZ\\xd5\\xcc\\xc9fH\\xe3\\xf7bR\\x16gQ\\xba\\x03\\xf3\\xb1\\xfa\\x1e\\x07\\xf9\\xd7\\x14\\x8bz\\x85\\xebv\\xaei\\xed<\\xb0\\xcb\\x84\\x156\\x14\\xa0\\x85\\x11\\xe9*H;TG\\x04\\x82G\\x15\\xd6\\xfb\\x0b\\xe9\\xc6\\x8fq4m\\xadW\\xa9\\xb1\\x18\\xebg1zK\\x18\\xd8\\xf38\\xd4\\xb1$4U\\x12(\\x8a3\\xef\\xb4r\\xfbMa@\\xdb\\xc5\\x8f#}\\xc9\\x9ca\\xbd\\x88\\x01C5\\xa5zgDn\\xc3Ki\\xbb\\x96\\x81p\\xfec)\\x12\\t\\xcc\\x19\\x13 `\\xf6\\xa47v\\xfb-\\xa5\\xbb\\xc3\\x8d\\xac\\x99\\xfa\\xb3\\xa5\\xec\\x7f\\xb8\\xf42\\x98\\xfb/Z\\xddFa\\xe7\\x8b\\xa1\\x1c\\xd0\\x95F0\\xc8\\x1e\\'h\\xe3.\\x8d\\xc0l\\xba\\x92\\x14!B\\x8an\\xec\\xed\\xef\\xda,] -\\'\\x83\\xd8\\x89\\x1e\\xc6\\t\\xc8\\xc8\\xe0\\xd6ez\\xa7\\xd7\\xb9\\xcfL\\xfd\\xda}\\x11\\x88\\xb85=4\\xc7W\\xbd\\xfa\\x86\\xa1\\x85\\r\\xa2\\xd2\\x997S\\xf8\\xc2\\x08\\xf8\\x8e\\x03o\\xd9\\xbf\\x93\\xb9=46\\x8d\\x93\\x8cUow\\xd0zC\\x8f\\x12\\xd9Z\\x04\\x0c\\x05\\x08\\xff\\x00AG\\xfb\\xa5\\x97\\xa7\\x0fN:c\\xba}\\xb9\\xd2\\x1a\\xe3Y\\xdb\\xca\\xeaF\\xcd\\xe2\\xeae\\x9b\\x01ft\\x87\\x17^Y\\x10;F\"\\x85\\x11\\xe7\\x84\\xeeT\\xc5e\\xe6R\\xbe\\x18\\x1f\\x9e\\x96m\\x947\\x903D\\xfaWLiZ^\\xc7\\x98jV\\x00\\xfc\\xca\\xc9\\x9f9\\xce\\x01\\xf9H\\x1f\\x14\\xc1\\xe9z-\\xaf\\xff\\xd9'"
      ]
     },
     "execution_count": 34,
     "metadata": {},
     "output_type": "execute_result"
    }
   ],
   "source": [
    "requests.get(imgurl).content"
   ]
  },
  {
   "cell_type": "code",
   "execution_count": 35,
   "metadata": {},
   "outputs": [
    {
     "name": "stdout",
     "output_type": "stream",
     "text": [
      "Collecting pillow\n",
      "\u001b[?25l  Downloading https://files.pythonhosted.org/packages/8f/f3/c6d351d7e582e4f2ef4343c9be1f0472cb249fb69695e68631e337f4b6e9/Pillow-6.1.0-cp37-cp37m-macosx_10_6_intel.macosx_10_9_intel.macosx_10_9_x86_64.macosx_10_10_intel.macosx_10_10_x86_64.whl (3.8MB)\n",
      "\u001b[K     |████████████████████████████████| 3.9MB 1.2MB/s eta 0:00:01\n",
      "\u001b[?25hInstalling collected packages: pillow\n",
      "Successfully installed pillow-6.1.0\n"
     ]
    }
   ],
   "source": [
    "!pip install pillow"
   ]
  },
  {
   "cell_type": "code",
   "execution_count": 39,
   "metadata": {},
   "outputs": [],
   "source": [
    "from PIL import Image\n",
    "from io import BytesIO"
   ]
  },
  {
   "cell_type": "code",
   "execution_count": 40,
   "metadata": {},
   "outputs": [
    {
     "data": {
      "image/png": "[encoded data removed]",
      "text/plain": [
       "<PIL.JpegImagePlugin.JpegImageFile image mode=RGB size=28x28 at 0x1123D9890>"
      ]
     },
     "execution_count": 40,
     "metadata": {},
     "output_type": "execute_result"
    }
   ],
   "source": [
    "b = requests.get(imgurl).content\n",
    "Image.open(BytesIO(b))"
   ]
  },
  {
   "cell_type": "code",
   "execution_count": 41,
   "metadata": {},
   "outputs": [
    {
     "data": {
      "text/plain": [
       "('〈今回のお歌リスト〉\\n\\n4:14 「夏色」ゆず\\n9:43 「ウィーアー」きただにひろし\\n16:11 「気まぐれロマンティック」いきものがかり\\n21:47 「修羅」DOES\\n26:57 「君の知らない物語」Supercell\\n35:19 「青春アミーゴ」修二と彰\\n41:56 「全力少年」スキマスイッチ\\n48:37 「secret base 〜君がくれたもの〜」             ZONE\\n55:30 「世界に一つだけの花」SMAP\\n\\n時間とか間違っている所があったら申し訳ないです 教えてくれると助かります_(。｡)_\\n\\nお歌の放送今回もめちゃくちゃ良かったです！！',\n",
       " '2019-08-31T15:33:14.000Z')"
      ]
     },
     "execution_count": 41,
     "metadata": {},
     "output_type": "execute_result"
    }
   ],
   "source": [
    "text = item['snippet']['topLevelComment']['snippet']['textDisplay']\n",
    "time = item['snippet']['topLevelComment']['snippet']['publishedAt']\n",
    "text, time"
   ]
  },
  {
   "cell_type": "code",
   "execution_count": 43,
   "metadata": {},
   "outputs": [
    {
     "name": "stdout",
     "output_type": "stream",
     "text": [
      "2019-08-31T15:33:14.000Z:〈今回のお歌リスト〉\n",
      "\n",
      "4:14 「夏色」ゆず\n",
      "9:43 「ウィーアー」きただにひろし\n",
      "16:11 「気まぐれロマンティック」いきものがかり\n",
      "21:47 「修羅」DOES\n",
      "26:57 「君の知らない物語」Supercell\n",
      "35:19 「青春アミーゴ」修二と彰\n",
      "41:56 「全力少年」スキマスイッチ\n",
      "48:37 「secret base 〜君がくれたもの〜」             ZONE\n",
      "55:30 「世界に一つだけの花」SMAP\n",
      "\n",
      "時間とか間違っている所があったら申し訳ないです 教えてくれると助かります_(。｡)_\n",
      "\n",
      "お歌の放送今回もめちゃくちゃ良かったです！！\n"
     ]
    }
   ],
   "source": [
    "print(f\"{time}:{text}\")"
   ]
  },
  {
   "cell_type": "code",
   "execution_count": null,
   "metadata": {},
   "outputs": [],
   "source": []
  }
 ],
 "metadata": {
  "kernelspec": {
   "display_name": "Python 3",
   "language": "python",
   "name": "python3"
  },
  "language_info": {
   "codemirror_mode": {
    "name": "ipython",
    "version": 3
   },
   "file_extension": ".py",
   "mimetype": "text/x-python",
   "name": "python",
   "nbconvert_exporter": "python",
   "pygments_lexer": "ipython3",
   "version": "3.7.4"
  }
 },
 "nbformat": 4,
 "nbformat_minor": 2
}
