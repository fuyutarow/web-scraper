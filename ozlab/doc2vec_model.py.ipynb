{
 "cells": [
  {
   "cell_type": "code",
   "execution_count": 1,
   "metadata": {
    "collapsed": true
   },
   "outputs": [],
   "source": [
    "import numpy as np\n",
    "import gensim\n",
    "from gensim import models\n",
    "from gensim.models import doc2vec\n",
    "from sklearn.metrics.pairwise import cosine_similarity\n",
    "import MeCab\n",
    "mecab = MeCab.Tagger(\"-Owakati -d /usr/local/lib/mecab/dic/mecab-ipadic-neologd/\") \n",
    "\n",
    "wakati = lambda sentence: gensim.utils.simple_preprocess(mecab.parse(sentence), min_len=1)\n",
    "def read_corpus(fname):\n",
    "    with open(fname) as f:\n",
    "        for i, line in enumerate(f):\n",
    "            yield doc2vec.TaggedDocument(wakati(line), tags=[i])\n"
   ]
  },
  {
   "cell_type": "code",
   "execution_count": 2,
   "metadata": {
    "collapsed": true
   },
   "outputs": [],
   "source": [
    "def similar(line):\n",
    "    vec = model.infer_vector(wakati(line))\n",
    "    sims = cosine_similarity([vec], doc_vecs)\n",
    "    index = np.argsort(sims[0])[::-1]\n",
    "    for i in range(10):\n",
    "        print('#',''.join(doc[index[i]].split(' ')))"
   ]
  },
  {
   "cell_type": "code",
   "execution_count": 3,
   "metadata": {
    "collapsed": false
   },
   "outputs": [],
   "source": [
    "mode = 'doc'\n",
    "train_corpus = list(read_corpus('aozora.776_14941.doc.txt'))\n",
    "model = doc2vec.Doc2Vec(\n",
    "    size=100, window=5, min_count=1, iter=20, workers=4, dm=0)\n",
    "model.build_vocab(train_corpus)\n",
    "model.train(train_corpus, total_examples=model.corpus_count)\n",
    "model.save(\"ksmkr.doc.model\")\n",
    "doc = open('aozora.776_14941.doc.txt').read().split('\\n')\n",
    "doc_vecs = [ model.infer_vector(wakati(mecab.parse(line))) for line in doc ]\n",
    "model = gensim.models.Doc2Vec.load(\"ksmkr.doc.model\")"
   ]
  },
  {
   "cell_type": "code",
   "execution_count": 7,
   "metadata": {
    "collapsed": false
   },
   "outputs": [],
   "source": [
    "mode = 'ln'\n",
    "train_corpus = list(read_corpus('aozora.776_14941.ln.txt'))\n",
    "model = doc2vec.Doc2Vec(\n",
    "    size=100, window=5, min_count=1, iter=20, workers=4, dm=0)\n",
    "model.build_vocab(train_corpus)\n",
    "model.train(train_corpus, total_examples=model.corpus_count)\n",
    "model.save(\"ksmkr.ln.model\")\n",
    "doc = open('aozora.776_14941.ln.txt').read().split('\\n')\n",
    "doc_vecs = [ model.infer_vector(wakati(mecab.parse(line))) for line in doc ]\n",
    "model = gensim.models.Doc2Vec.load(\"ksmkr.ln.model\")"
   ]
  },
  {
   "cell_type": "code",
   "execution_count": 8,
   "metadata": {
    "collapsed": false
   },
   "outputs": [
    {
     "name": "stdout",
     "output_type": "stream",
     "text": [
      "ln\n",
      "# どこまでも同情だとか、愛だとか、正義だとか、自由だとか、浮世の勧工場にあるものだけで用を弁じている。\n",
      "# あの錦襴も織りたては、あれほどのゆかしさも無かったろうに、彩色が褪せて、金糸が沈んで、華麗なところが滅り込んで、渋いところがせり出して、あんないい調子になったのだと思う。\n",
      "# 　家は随分広いが、向う二階の一間と、余が欄干に添うて、右へ折れた一間のほかは、居室台所は知らず、客間と名がつきそうなのは大抵立て切ってある。\n",
      "# 痙攣的な苦悶はもとより、全幅の精神をうち壊わすが、全然色気のない平気な顔では人情が写らない。\n",
      "# ――そこでその坊主が逆せちまって……」\n",
      "# ――何でも下町じゃねえようだ。\n",
      "# 腰から下にぱっと色づく、裾模様は何を染め抜いたものか、遠くて解からぬ。\n",
      "# どうもさっぱし、見境のねえ女だから困っちまわあ」\n",
      "# 神秘は十万億土へ帰って、三途の川の向側へ渡ったのだろう。\n",
      "# ――喜びの深きとき憂いよいよ深く、楽みの大いなるほど苦しみも大きい。\n"
     ]
    }
   ],
   "source": [
    "print(mode)\n",
    "line = \"世にも奇妙なことがあるものだ\"\n",
    "similar(line)"
   ]
  },
  {
   "cell_type": "code",
   "execution_count": 9,
   "metadata": {
    "collapsed": false
   },
   "outputs": [
    {
     "name": "stdout",
     "output_type": "stream",
     "text": [
      "ln\n",
      "# どうもさっぱし、見境のねえ女だから困っちまわあ」\n",
      "# 羽織はとくに濡れ尽して肌着に浸み込んだ水が、身体の温度で生暖く感ぜられる。\n",
      "# やはり余った菊は花屋へ売りこかして、生えた筍は八百屋へ払い下げたものと思う。\n",
      "# 　老人の部屋は、余が室の廊下を右へ突き当って、左へ折れた行き留りにある。\n",
      "# 得心ずくで任せた顔だから、少しの怪我なら苦情は云わないつもりだが、急に気が変って咽喉笛でも掻き切られては事だ。\n",
      "# 左右が高くって、中心が窪んで、まるで一間幅を三角に穿って、その頂点が真中を貫いていると評してもよい。\n",
      "# すかして見ると春の日影は一面に射し込んで、射し込んだまま、逃がれ出ずる路を失ったような感じである。\n",
      "# 　岩の凹みに湛えた春の水が、驚ろいて、のたりのたりと鈍く揺いている。\n",
      "# 痙攣的な苦悶はもとより、全幅の精神をうち壊わすが、全然色気のない平気な顔では人情が写らない。\n",
      "# ――御秋さんは善い所へ片づいて仕合せだ。\n"
     ]
    }
   ],
   "source": [
    "print(mode)\n",
    "line = \"愛だとか自由だとか詠うキザな奴がいたんですよ\"\n",
    "similar(line)"
   ]
  },
  {
   "cell_type": "code",
   "execution_count": 10,
   "metadata": {
    "collapsed": false
   },
   "outputs": [
    {
     "name": "stdout",
     "output_type": "stream",
     "text": [
      "ln\n",
      "# 今代芸術の一大弊竇は、いわゆる文明の潮流が、いたずらに芸術の士を駆って、拘々として随処に齷齪たらしむるにある。\n",
      "# 次に「花の影、女の影の朧かな」とやったが、これは季が重なっている。\n",
      "# 鋸のような葉が遠慮なく四方へのして真中に黄色な珠を擁護している。\n",
      "# 「どうも、……」と老人は苦笑いをしたが、急に立って「実はこれを御覧に入れるつもりで」と話をまた道具の方へそらした。\n",
      "# あいた所へまぼろしのごとく女の影がふうと現われた。\n",
      "# 「女は路に迷いながら、いずこに迷えるかを知らぬ様である。\n",
      "# これは商売柄だけに、部屋に這入った時、すでに逸品と認めた。\n",
      "# こちらに窺う人があって、その人が自分のためにどれほどやきもき思うているか、微塵も気に掛からぬ有様で通る。\n",
      "# それにもかかわらず一輪はついに一輪で、一輪と一輪の間から、薄青い空が判然と望まれる。\n",
      "# 灯籠の前後には、苔深き地を抽いて、名も知らぬ春の草が、浮世の風を知らぬ顔に、独り匂うて独り楽しんでいる。\n"
     ]
    }
   ],
   "source": [
    "print(mode)\n",
    "line = \"矛盾だらけとかは\"\n",
    "similar(line)"
   ]
  }
 ],
 "metadata": {
  "kernelspec": {
   "display_name": "Python 3",
   "language": "python",
   "name": "python3"
  },
  "language_info": {
   "codemirror_mode": {
    "name": "ipython",
    "version": 3
   },
   "file_extension": ".py",
   "mimetype": "text/x-python",
   "name": "python",
   "nbconvert_exporter": "python",
   "pygments_lexer": "ipython3",
   "version": "3.6.0"
  }
 },
 "nbformat": 4,
 "nbformat_minor": 2
}
