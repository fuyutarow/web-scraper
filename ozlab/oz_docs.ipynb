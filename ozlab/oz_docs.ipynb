{
 "cells": [
  {
   "cell_type": "code",
   "execution_count": 2,
   "metadata": {
    "collapsed": true
   },
   "outputs": [],
   "source": [
    "import os\n",
    "import glob\n",
    "import urllib.request\n",
    "import codecs\n",
    "import csv\n",
    "from bs4 import BeautifulSoup\n",
    "import time"
   ]
  },
  {
   "cell_type": "code",
   "execution_count": 3,
   "metadata": {
    "collapsed": true
   },
   "outputs": [],
   "source": [
    "def url_html(url):\n",
    "    req = urllib.request.Request(url)\n",
    "    res = urllib.request.urlopen(req)\n",
    "    html = res.read()\n",
    "    return html"
   ]
  },
  {
   "cell_type": "code",
   "execution_count": 7,
   "metadata": {
    "collapsed": false
   },
   "outputs": [
    {
     "name": "stdout",
     "output_type": "stream",
     "text": [
      "松 恭平,20150831T164300+0900,narou_docs/narou.n9735cv.1,http://ncode.syosetu.com/n9735cv/1/\n",
      "松 恭平,20150831T224500+0900,narou_docs/narou.n9735cv.2,http://ncode.syosetu.com/n9735cv/2/\n",
      "松 恭平,20150901T031500+0900,narou_docs/narou.n9735cv.3,http://ncode.syosetu.com/n9735cv/3/\n",
      "松 恭平,20150901T181400+0900,narou_docs/narou.n9735cv.4,http://ncode.syosetu.com/n9735cv/4/\n",
      "松 恭平,20150902T021500+0900,narou_docs/narou.n9735cv.5,http://ncode.syosetu.com/n9735cv/5/\n",
      "松 恭平,20150909T193400+0900,narou_docs/narou.n9735cv.6,http://ncode.syosetu.com/n9735cv/6/\n",
      "松 恭平,20150915T201500+0900,narou_docs/narou.n9735cv.7,http://ncode.syosetu.com/n9735cv/7/\n",
      "松 恭平,20150920T212600+0900,narou_docs/narou.n9735cv.8,http://ncode.syosetu.com/n9735cv/8/\n",
      "松 恭平,20150925T212100+0900,narou_docs/narou.n9735cv.9,http://ncode.syosetu.com/n9735cv/9/\n",
      "松 恭平,20150930T221000+0900,narou_docs/narou.n9735cv.10,http://ncode.syosetu.com/n9735cv/10/\n",
      "松 恭平,20160515T200300+0900,narou_docs/narou.n9735cv.11,http://ncode.syosetu.com/n9735cv/11/\n",
      "松 恭平,20160515T200400+0900,narou_docs/narou.n9735cv.12,http://ncode.syosetu.com/n9735cv/12/\n",
      "松 恭平,20151007T212000+0900,narou_docs/narou.n9735cv.13,http://ncode.syosetu.com/n9735cv/13/\n",
      "松 恭平,20151014T190700+0900,narou_docs/narou.n9735cv.14,http://ncode.syosetu.com/n9735cv/14/\n",
      "松 恭平,20151021T202000+0900,narou_docs/narou.n9735cv.15,http://ncode.syosetu.com/n9735cv/15/\n",
      "松 恭平,20151104T224000+0900,narou_docs/narou.n9735cv.16,http://ncode.syosetu.com/n9735cv/16/\n",
      "松 恭平,20151111T215000+0900,narou_docs/narou.n9735cv.17,http://ncode.syosetu.com/n9735cv/17/\n",
      "松 恭平,20151118T151200+0900,narou_docs/narou.n9735cv.18,http://ncode.syosetu.com/n9735cv/18/\n",
      "松 恭平,20151118T212000+0900,narou_docs/narou.n9735cv.19,http://ncode.syosetu.com/n9735cv/19/\n",
      "松 恭平,20151120T200900+0900,narou_docs/narou.n9735cv.20,http://ncode.syosetu.com/n9735cv/20/\n",
      "松 恭平,20151122T200200+0900,narou_docs/narou.n9735cv.21,http://ncode.syosetu.com/n9735cv/21/\n",
      "松 恭平,20151122T210500+0900,narou_docs/narou.n9735cv.22,http://ncode.syosetu.com/n9735cv/22/\n",
      "松 恭平,20151125T213600+0900,narou_docs/narou.n9735cv.23,http://ncode.syosetu.com/n9735cv/23/\n",
      "松 恭平,20151125T220400+0900,narou_docs/narou.n9735cv.24,http://ncode.syosetu.com/n9735cv/24/\n",
      "松 恭平,20151125T224700+0900,narou_docs/narou.n9735cv.25,http://ncode.syosetu.com/n9735cv/25/\n",
      "松 恭平,20160320T191500+0900,narou_docs/narou.n9735cv.26,http://ncode.syosetu.com/n9735cv/26/\n",
      "松 恭平,20160320T200800+0900,narou_docs/narou.n9735cv.27,http://ncode.syosetu.com/n9735cv/27/\n",
      "松 恭平,20160323T200800+0900,narou_docs/narou.n9735cv.28,http://ncode.syosetu.com/n9735cv/28/\n",
      "松 恭平,20160326T200900+0900,narou_docs/narou.n9735cv.29,http://ncode.syosetu.com/n9735cv/29/\n",
      "松 恭平,20160329T201000+0900,narou_docs/narou.n9735cv.30,http://ncode.syosetu.com/n9735cv/30/\n",
      "松 恭平,20160402T202400+0900,narou_docs/narou.n9735cv.31,http://ncode.syosetu.com/n9735cv/31/\n",
      "松 恭平,20160405T203200+0900,narou_docs/narou.n9735cv.32,http://ncode.syosetu.com/n9735cv/32/\n",
      "松 恭平,20160406T202100+0900,narou_docs/narou.n9735cv.33,http://ncode.syosetu.com/n9735cv/33/\n",
      "松 恭平,20160409T202100+0900,narou_docs/narou.n9735cv.34,http://ncode.syosetu.com/n9735cv/34/\n",
      "松 恭平,20160411T222300+0900,narou_docs/narou.n9735cv.35,http://ncode.syosetu.com/n9735cv/35/\n",
      "松 恭平,20160414T234400+0900,narou_docs/narou.n9735cv.36,http://ncode.syosetu.com/n9735cv/36/\n",
      "松 恭平,20160417T234800+0900,narou_docs/narou.n9735cv.37,http://ncode.syosetu.com/n9735cv/37/\n",
      "松 恭平,20160515T203600+0900,narou_docs/narou.n9735cv.38,http://ncode.syosetu.com/n9735cv/38/\n",
      "松 恭平,20160522T201200+0900,narou_docs/narou.n9735cv.39,http://ncode.syosetu.com/n9735cv/39/\n",
      "松 恭平,20160529T210200+0900,narou_docs/narou.n9735cv.40,http://ncode.syosetu.com/n9735cv/40/\n",
      "松 恭平,20160605T212100+0900,narou_docs/narou.n9735cv.41,http://ncode.syosetu.com/n9735cv/41/\n",
      "松 恭平,20161003T190200+0900,narou_docs/narou.n9735cv.42,http://ncode.syosetu.com/n9735cv/42/\n",
      "松 恭平,20161003T191900+0900,narou_docs/narou.n9735cv.43,http://ncode.syosetu.com/n9735cv/43/\n",
      "松 恭平,20161004T103200+0900,narou_docs/narou.n9735cv.44,http://ncode.syosetu.com/n9735cv/44/\n",
      "松 恭平,20161005T232700+0900,narou_docs/narou.n9735cv.45,http://ncode.syosetu.com/n9735cv/45/\n",
      "松 恭平,20161006T200800+0900,narou_docs/narou.n9735cv.46,http://ncode.syosetu.com/n9735cv/46/\n",
      "松 恭平,20161007T232800+0900,narou_docs/narou.n9735cv.47,http://ncode.syosetu.com/n9735cv/47/\n",
      "松 恭平,20161008T221400+0900,narou_docs/narou.n9735cv.48,http://ncode.syosetu.com/n9735cv/48/\n",
      "松 恭平,20161009T224500+0900,narou_docs/narou.n9735cv.49,http://ncode.syosetu.com/n9735cv/49/\n",
      "松 恭平,20161011T204400+0900,narou_docs/narou.n9735cv.50,http://ncode.syosetu.com/n9735cv/50/\n",
      "松 恭平,20161014T171400+0900,narou_docs/narou.n9735cv.51,http://ncode.syosetu.com/n9735cv/51/\n",
      "松 恭平,20161015T120200+0900,narou_docs/narou.n9735cv.52,http://ncode.syosetu.com/n9735cv/52/\n",
      "松 恭平,20161016T224100+0900,narou_docs/narou.n9735cv.53,http://ncode.syosetu.com/n9735cv/53/\n",
      "松 恭平,20161020T235600+0900,narou_docs/narou.n9735cv.54,http://ncode.syosetu.com/n9735cv/54/\n",
      "松 恭平,20161023T214000+0900,narou_docs/narou.n9735cv.55,http://ncode.syosetu.com/n9735cv/55/\n",
      "松 恭平,20161026T164200+0900,narou_docs/narou.n9735cv.56,http://ncode.syosetu.com/n9735cv/56/\n",
      "松 恭平,20161029T113200+0900,narou_docs/narou.n9735cv.57,http://ncode.syosetu.com/n9735cv/57/\n",
      "松 恭平,20161102T063500+0900,narou_docs/narou.n9735cv.58,http://ncode.syosetu.com/n9735cv/58/\n",
      "松 恭平,20161103T120900+0900,narou_docs/narou.n9735cv.59,http://ncode.syosetu.com/n9735cv/59/\n",
      "松 恭平,20161104T212700+0900,narou_docs/narou.n9735cv.60,http://ncode.syosetu.com/n9735cv/60/\n",
      "松 恭平,20161107T120500+0900,narou_docs/narou.n9735cv.61,http://ncode.syosetu.com/n9735cv/61/\n",
      "松 恭平,20161111T134100+0900,narou_docs/narou.n9735cv.62,http://ncode.syosetu.com/n9735cv/62/\n",
      "松 恭平,20161115T194300+0900,narou_docs/narou.n9735cv.63,http://ncode.syosetu.com/n9735cv/63/\n",
      "松 恭平,20161122T172300+0900,narou_docs/narou.n9735cv.64,http://ncode.syosetu.com/n9735cv/64/\n",
      "松 恭平,20161124T191700+0900,narou_docs/narou.n9735cv.65,http://ncode.syosetu.com/n9735cv/65/\n",
      "松 恭平,20161127T000300+0900,narou_docs/narou.n9735cv.66,http://ncode.syosetu.com/n9735cv/66/\n",
      "松 恭平,20161127T221100+0900,narou_docs/narou.n9735cv.67,http://ncode.syosetu.com/n9735cv/67/\n"
     ]
    }
   ],
   "source": [
    "narou_root_url = 'http://ncode.syosetu.com/'\n",
    "writer_id = 'n9735cv'\n",
    "\n",
    "url = narou_root_url+writer_id\n",
    "html = url_html(url)\n",
    "soup = BeautifulSoup(html,'html.parser')\n",
    "\n",
    "hname = 'narou_docs/narou.'+writer_id+'.header.txt'\n",
    "header = open(hname,'w')\n",
    "header.write('')\n",
    "\n",
    "name = soup.select('.novel_writername')[0].a.text\n",
    "\n",
    "for sub in soup.select('.novel_sublist2'):\n",
    "    url = 'http://ncode.syosetu.com'+sub.a.get('href')\n",
    "    date = sub.select('.long_update')[0]\\\n",
    "        .get_text().split('\\n')[1].split(' ')\n",
    "    when = ''.join(date[0].split('/'))+'T'+''.join(date[1].split(':'))+'00+0900'\n",
    "    fname = 'narou_docs/narou.'+'.'.join(url.split('/')[3:5])\n",
    "    print(','.join([name, when, fname, url]))\n",
    "    header.write(','.join([name, when, fname, url])+'\\n')\n"
   ]
  },
  {
   "cell_type": "code",
   "execution_count": 28,
   "metadata": {
    "collapsed": false,
    "scrolled": true
   },
   "outputs": [],
   "source": [
    "lines = open(hname).readlines()\n",
    "\n",
    "for line in lines:\n",
    "    fname = line.split(',')[2]\n",
    "    url = line.split(',')[-1][:-1]\n",
    "    html = url_html(url)\n",
    "    soup = BeautifulSoup(html,'html.parser')\n",
    "    text = soup.select('#novel_honbun')[0].get_text()\n",
    "    \n",
    "    with open(fname+'.doc.txt','w') as f:\n",
    "        f.write(text)\n",
    "\n",
    "    text = text.replace('。','。\\n')\n",
    "    with open(fname+'.ln.txt','w') as f:\n",
    "        f.write(text)\n",
    "    "
   ]
  }
 ],
 "metadata": {
  "kernelspec": {
   "display_name": "Python 3",
   "language": "python",
   "name": "python3"
  },
  "language_info": {
   "codemirror_mode": {
    "name": "ipython",
    "version": 3
   },
   "file_extension": ".py",
   "mimetype": "text/x-python",
   "name": "python",
   "nbconvert_exporter": "python",
   "pygments_lexer": "ipython3",
   "version": "3.6.0"
  }
 },
 "nbformat": 4,
 "nbformat_minor": 2
}
