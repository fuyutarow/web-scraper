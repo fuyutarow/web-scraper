{
 "cells": [
  {
   "cell_type": "code",
   "execution_count": 2,
   "metadata": {
    "collapsed": false
   },
   "outputs": [],
   "source": [
    "import numpy as np\n",
    "import gensim\n",
    "from gensim import models\n",
    "from gensim.models import doc2vec\n",
    "from sklearn.metrics.pairwise import cosine_similarity\n",
    "import MeCab\n",
    "mecab = MeCab.Tagger(\"-Owakati -d /usr/local/lib/mecab/dic/mecab-ipadic-neologd/\") \n",
    "\n",
    "wakati = lambda sentence: gensim.utils.simple_preprocess(mecab.parse(sentence), min_len=1)\n",
    "def read_corpus(fname):\n",
    "    with open(fname) as f:\n",
    "        for i, line in enumerate(f):\n",
    "            yield doc2vec.TaggedDocument(wakati(line), tags=[i])\n"
   ]
  },
  {
   "cell_type": "code",
   "execution_count": 3,
   "metadata": {
    "collapsed": true
   },
   "outputs": [],
   "source": [
    "def similar(line):\n",
    "    vec = model.infer_vector(wakati(line))\n",
    "    sims = cosine_similarity([vec], doc_vecs)\n",
    "    index = np.argsort(sims[0])[::-1]\n",
    "    for i in range(20):\n",
    "        print('#',''.join(doc[index[i]].split(' ')))"
   ]
  },
  {
   "cell_type": "code",
   "execution_count": 3,
   "metadata": {
    "collapsed": false
   },
   "outputs": [
    {
     "name": "stdout",
     "output_type": "stream",
     "text": [
      "['ようこそ', 'ジャパリカフェ', 'へー']\n",
      "['ようこそ', '、', 'ジャパリカフェ', 'へー']\n"
     ]
    }
   ],
   "source": [
    "line = \"ようこそ、ジャパリカフェへー\"\n",
    "s2w = lambda sentence: gensim.utils.simple_preprocess(mecab.parse(sentence), min_len=1)\n",
    "print(s2w(line))\n",
    "s2w = lambda sentence: mecab.parse(sentence).split(' ')[:-1]\n",
    "print(s2w(line))"
   ]
  },
  {
   "cell_type": "code",
   "execution_count": 34,
   "metadata": {
    "collapsed": false
   },
   "outputs": [],
   "source": [
    "mode = 'doc'\n",
    "fname = 'oz_docs/n9735.all.'+mode+'.txt'\n",
    "gname = 'oz_models/dataall.'+mode+'.model'\n",
    "train_corpus = list(read_corpus(fname))\n",
    "model = doc2vec.Doc2Vec(\n",
    "    size=100, window=5, min_count=1, iter=20, workers=4, dm=1)\n",
    "model.build_vocab(train_corpus)\n",
    "model.train(train_corpus, total_examples=model.corpus_count)\n",
    "model.save(gname)\n",
    "doc = open(fname).read().split('\\n')\n",
    "doc_vecs = [ model.infer_vector(wakati(mecab.parse(line))) for line in doc ]\n",
    "model = gensim.models.Doc2Vec.load(gname)"
   ]
  },
  {
   "cell_type": "code",
   "execution_count": 77,
   "metadata": {
    "collapsed": false
   },
   "outputs": [],
   "source": [
    "mode = 'ln'\n",
    "fname = 'oz_docs/n9735.all.'+mode+'.txt'\n",
    "gname = 'oz_models/dataall.'+mode+'.model'\n",
    "train_corpus = list(read_corpus(fname))\n",
    "model = doc2vec.Doc2Vec(\n",
    "    size=100, window=5, min_count=1, iter=20, workers=4, dm=1)\n",
    "model.build_vocab(train_corpus)\n",
    "model.train(train_corpus, total_examples=model.corpus_count)\n",
    "model.save(gname)\n",
    "doc = open(fname).read().split('\\n')\n",
    "doc_vecs = [ model.infer_vector(wakati(mecab.parse(line))) for line in doc ]\n",
    "model = gensim.models.Doc2Vec.load(gname)"
   ]
  },
  {
   "cell_type": "code",
   "execution_count": 15,
   "metadata": {
    "collapsed": false
   },
   "outputs": [
    {
     "ename": "SyntaxError",
     "evalue": "invalid syntax (<ipython-input-15-3b888c33d134>, line 7)",
     "output_type": "error",
     "traceback": [
      "\u001b[0;36m  File \u001b[0;32m\"<ipython-input-15-3b888c33d134>\"\u001b[0;36m, line \u001b[0;32m7\u001b[0m\n\u001b[0;31m    sims = cosine_similarity([vec], doc_vecs)\u001b[0m\n\u001b[0m       ^\u001b[0m\n\u001b[0;31mSyntaxError\u001b[0m\u001b[0;31m:\u001b[0m invalid syntax\n"
     ]
    }
   ],
   "source": [
    "# s2w = lambda sentence: gensim.utils.simple_preprocess(mecab.parse(sentence), min_len=1)\n",
    "line = \"オズくんのことが好きです\"\n",
    "line = \"セナのことが好きだ\"\n",
    "model = gensim.models.Doc2Vec.load(\"oz_doc2vec.model\")\n",
    "vec = model.infer_vector(s2w(line))\n",
    "sims = cosine_similarity([vec], doc_vecs)\n",
    "index = np.argsort(sims[0])[::-1]\n",
    "for i in range(10):\n",
    "    print(''.join(doc[index[i]].split(' ')))"
   ]
  },
  {
   "cell_type": "code",
   "execution_count": 75,
   "metadata": {
    "collapsed": false,
    "scrolled": true
   },
   "outputs": [
    {
     "ename": "KeyboardInterrupt",
     "evalue": "",
     "output_type": "error",
     "traceback": [
      "\u001b[0;31m---------------------------------------------------------------------------\u001b[0m",
      "\u001b[0;31mKeyboardInterrupt\u001b[0m                         Traceback (most recent call last)",
      "\u001b[0;32m<ipython-input-75-f8cbcd8d3708>\u001b[0m in \u001b[0;36m<module>\u001b[0;34m()\u001b[0m\n\u001b[1;32m      2\u001b[0m \u001b[0mgname\u001b[0m \u001b[0;34m=\u001b[0m \u001b[0;34m'oz_models/dataall.love170605.doc.model'\u001b[0m\u001b[0;34m\u001b[0m\u001b[0m\n\u001b[1;32m      3\u001b[0m \u001b[0mdoc\u001b[0m \u001b[0;34m=\u001b[0m \u001b[0mopen\u001b[0m\u001b[0;34m(\u001b[0m\u001b[0mfname\u001b[0m\u001b[0;34m)\u001b[0m\u001b[0;34m.\u001b[0m\u001b[0mread\u001b[0m\u001b[0;34m(\u001b[0m\u001b[0;34m)\u001b[0m\u001b[0;34m.\u001b[0m\u001b[0msplit\u001b[0m\u001b[0;34m(\u001b[0m\u001b[0;34m'\\n'\u001b[0m\u001b[0;34m)\u001b[0m\u001b[0;34m\u001b[0m\u001b[0m\n\u001b[0;32m----> 4\u001b[0;31m \u001b[0mdoc_vecs\u001b[0m \u001b[0;34m=\u001b[0m \u001b[0;34m[\u001b[0m \u001b[0mmodel\u001b[0m\u001b[0;34m.\u001b[0m\u001b[0minfer_vector\u001b[0m\u001b[0;34m(\u001b[0m\u001b[0mwakati\u001b[0m\u001b[0;34m(\u001b[0m\u001b[0mmecab\u001b[0m\u001b[0;34m.\u001b[0m\u001b[0mparse\u001b[0m\u001b[0;34m(\u001b[0m\u001b[0mline\u001b[0m\u001b[0;34m)\u001b[0m\u001b[0;34m)\u001b[0m\u001b[0;34m)\u001b[0m \u001b[0;32mfor\u001b[0m \u001b[0mline\u001b[0m \u001b[0;32min\u001b[0m \u001b[0mdoc\u001b[0m \u001b[0;34m]\u001b[0m\u001b[0;34m\u001b[0m\u001b[0m\n\u001b[0m\u001b[1;32m      5\u001b[0m \u001b[0mmodel\u001b[0m \u001b[0;34m=\u001b[0m \u001b[0mgensim\u001b[0m\u001b[0;34m.\u001b[0m\u001b[0mmodels\u001b[0m\u001b[0;34m.\u001b[0m\u001b[0mDoc2Vec\u001b[0m\u001b[0;34m.\u001b[0m\u001b[0mload\u001b[0m\u001b[0;34m(\u001b[0m\u001b[0mgname\u001b[0m\u001b[0;34m)\u001b[0m\u001b[0;34m\u001b[0m\u001b[0m\n\u001b[1;32m      6\u001b[0m \u001b[0mline\u001b[0m \u001b[0;34m=\u001b[0m \u001b[0;34m\"世にも奇妙なことがあるものだ\"\u001b[0m\u001b[0;34m\u001b[0m\u001b[0m\n",
      "\u001b[0;32m<ipython-input-75-f8cbcd8d3708>\u001b[0m in \u001b[0;36m<listcomp>\u001b[0;34m(.0)\u001b[0m\n\u001b[1;32m      2\u001b[0m \u001b[0mgname\u001b[0m \u001b[0;34m=\u001b[0m \u001b[0;34m'oz_models/dataall.love170605.doc.model'\u001b[0m\u001b[0;34m\u001b[0m\u001b[0m\n\u001b[1;32m      3\u001b[0m \u001b[0mdoc\u001b[0m \u001b[0;34m=\u001b[0m \u001b[0mopen\u001b[0m\u001b[0;34m(\u001b[0m\u001b[0mfname\u001b[0m\u001b[0;34m)\u001b[0m\u001b[0;34m.\u001b[0m\u001b[0mread\u001b[0m\u001b[0;34m(\u001b[0m\u001b[0;34m)\u001b[0m\u001b[0;34m.\u001b[0m\u001b[0msplit\u001b[0m\u001b[0;34m(\u001b[0m\u001b[0;34m'\\n'\u001b[0m\u001b[0;34m)\u001b[0m\u001b[0;34m\u001b[0m\u001b[0m\n\u001b[0;32m----> 4\u001b[0;31m \u001b[0mdoc_vecs\u001b[0m \u001b[0;34m=\u001b[0m \u001b[0;34m[\u001b[0m \u001b[0mmodel\u001b[0m\u001b[0;34m.\u001b[0m\u001b[0minfer_vector\u001b[0m\u001b[0;34m(\u001b[0m\u001b[0mwakati\u001b[0m\u001b[0;34m(\u001b[0m\u001b[0mmecab\u001b[0m\u001b[0;34m.\u001b[0m\u001b[0mparse\u001b[0m\u001b[0;34m(\u001b[0m\u001b[0mline\u001b[0m\u001b[0;34m)\u001b[0m\u001b[0;34m)\u001b[0m\u001b[0;34m)\u001b[0m \u001b[0;32mfor\u001b[0m \u001b[0mline\u001b[0m \u001b[0;32min\u001b[0m \u001b[0mdoc\u001b[0m \u001b[0;34m]\u001b[0m\u001b[0;34m\u001b[0m\u001b[0m\n\u001b[0m\u001b[1;32m      5\u001b[0m \u001b[0mmodel\u001b[0m \u001b[0;34m=\u001b[0m \u001b[0mgensim\u001b[0m\u001b[0;34m.\u001b[0m\u001b[0mmodels\u001b[0m\u001b[0;34m.\u001b[0m\u001b[0mDoc2Vec\u001b[0m\u001b[0;34m.\u001b[0m\u001b[0mload\u001b[0m\u001b[0;34m(\u001b[0m\u001b[0mgname\u001b[0m\u001b[0;34m)\u001b[0m\u001b[0;34m\u001b[0m\u001b[0m\n\u001b[1;32m      6\u001b[0m \u001b[0mline\u001b[0m \u001b[0;34m=\u001b[0m \u001b[0;34m\"世にも奇妙なことがあるものだ\"\u001b[0m\u001b[0;34m\u001b[0m\u001b[0m\n",
      "\u001b[0;32m/home/ytro/anaconda3/lib/python3.6/site-packages/gensim/models/doc2vec.py\u001b[0m in \u001b[0;36minfer_vector\u001b[0;34m(self, doc_words, alpha, min_alpha, steps)\u001b[0m\n\u001b[1;32m    729\u001b[0m         \u001b[0mDocument\u001b[0m \u001b[0mshould\u001b[0m \u001b[0mbe\u001b[0m \u001b[0ma\u001b[0m \u001b[0mlist\u001b[0m \u001b[0mof\u001b[0m \u001b[0;34m(\u001b[0m\u001b[0mword\u001b[0m\u001b[0;34m)\u001b[0m \u001b[0mtokens\u001b[0m\u001b[0;34m.\u001b[0m\u001b[0;34m\u001b[0m\u001b[0m\n\u001b[1;32m    730\u001b[0m         \"\"\"\n\u001b[0;32m--> 731\u001b[0;31m         \u001b[0mdoctag_vectors\u001b[0m \u001b[0;34m=\u001b[0m \u001b[0mempty\u001b[0m\u001b[0;34m(\u001b[0m\u001b[0;34m(\u001b[0m\u001b[0;36m1\u001b[0m\u001b[0;34m,\u001b[0m \u001b[0mself\u001b[0m\u001b[0;34m.\u001b[0m\u001b[0mvector_size\u001b[0m\u001b[0;34m)\u001b[0m\u001b[0;34m,\u001b[0m \u001b[0mdtype\u001b[0m\u001b[0;34m=\u001b[0m\u001b[0mREAL\u001b[0m\u001b[0;34m)\u001b[0m\u001b[0;34m\u001b[0m\u001b[0m\n\u001b[0m\u001b[1;32m    732\u001b[0m         \u001b[0mdoctag_vectors\u001b[0m\u001b[0;34m[\u001b[0m\u001b[0;36m0\u001b[0m\u001b[0;34m]\u001b[0m \u001b[0;34m=\u001b[0m \u001b[0mself\u001b[0m\u001b[0;34m.\u001b[0m\u001b[0mseeded_vector\u001b[0m\u001b[0;34m(\u001b[0m\u001b[0;34m' '\u001b[0m\u001b[0;34m.\u001b[0m\u001b[0mjoin\u001b[0m\u001b[0;34m(\u001b[0m\u001b[0mdoc_words\u001b[0m\u001b[0;34m)\u001b[0m\u001b[0;34m)\u001b[0m\u001b[0;34m\u001b[0m\u001b[0m\n\u001b[1;32m    733\u001b[0m         \u001b[0mdoctag_locks\u001b[0m \u001b[0;34m=\u001b[0m \u001b[0mones\u001b[0m\u001b[0;34m(\u001b[0m\u001b[0;36m1\u001b[0m\u001b[0;34m,\u001b[0m \u001b[0mdtype\u001b[0m\u001b[0;34m=\u001b[0m\u001b[0mREAL\u001b[0m\u001b[0;34m)\u001b[0m\u001b[0;34m\u001b[0m\u001b[0m\n",
      "\u001b[0;31mKeyboardInterrupt\u001b[0m: "
     ]
    }
   ],
   "source": [
    "fname = 'oz_docs/n9735.all.doc.txt'\n",
    "gname = 'oz_models/dataall.love170605.doc.model'\n",
    "doc = open(fname).read().split('\\n')\n",
    "doc_vecs = [ model.infer_vector(wakati(mecab.parse(line))) for line in doc ]\n",
    "model = gensim.models.Doc2Vec.load(gname)\n",
    "line = \"世にも奇妙なことがあるものだ\"\n",
    "similar(line)"
   ]
  },
  {
   "cell_type": "code",
   "execution_count": 78,
   "metadata": {
    "collapsed": false,
    "scrolled": true
   },
   "outputs": [
    {
     "name": "stdout",
     "output_type": "stream",
     "text": [
      "# 「おれ、リノを誘ったんだ！」\n",
      "# 「アルス、あんまり無理するなよ？」\n",
      "# 「――って痛い痛いッ！　セナ、いきなりどうしたんだよ？」\n",
      "# 　オズとセナは並んで歩く。\n",
      "# 「ん？　ど、どうしたんだよセナ？」\n",
      "# おれは緊張を誤魔化すように、ゴンを抱きしめた。\n",
      "# セナの方こそ無茶しなかったか？」\n",
      "# 暇をもてあましたのか、ゴンがセナの胸に飛び下りた。\n",
      "# アルスが前衛、俺とルーク、リノの三人が中衛、セナとユーリが後衛、だな」\n",
      "# ――セナ、止めるなよ！」\n",
      "# 「あぁ、もしかしてセナを助けたことか？」\n",
      "# ……俺のカミさんも……紫色の瞳だった……」\n",
      "# セナとルークが受かって、俺だけ落ちたらどうしようって」\n",
      "# やっぱりセナはおもしろいなぁ、と。\n",
      "# セナには疲れた様子はない。\n",
      "# 「アルス……お前にはいつか借りを返そうと思ってたんだ。\n",
      "# 　リノ・ギュメイ――それが、セナのルームメイトの名前だった。\n",
      "# 「――セ、セナ？　どうして泣くんだよ」\n",
      "# 　結局、オズはセナを誘ったのであった。\n",
      "# 「ほらゴン、シャワー浴びないと汚いぞ」\n"
     ]
    }
   ],
   "source": [
    "line = \"セナのことが好きなんだ\"\n",
    "similar(line)"
   ]
  },
  {
   "cell_type": "code",
   "execution_count": 79,
   "metadata": {
    "collapsed": false
   },
   "outputs": [
    {
     "name": "stdout",
     "output_type": "stream",
     "text": [
      "# 「どういうことだよ。\n",
      "# 「オズくんが足を引っぱることなんてないよ。\n",
      "# なにそんなに慌ててんだよ。\n",
      "# 「……ズくん…………オズくん！　大丈夫！？」\n",
      "# 「ふふ……みんなオズくんのこと心配してるよ。\n",
      "# 「オズくんって、すぐ“かわいい”とかいうよね」\n",
      "# 「フウカ先生の狙いは、あたしなのっ！　〈賢者の石〉を進化させるために、あたしのマナがちょっと必要なだけだって！　ハインがそう言ってたの！　命まではとらないって！　だから、あたしのことなんて放って、逃げてよぉっ！　オズのことは見逃してくれるはずだからっ！」\n",
      "# 「そ、そこまで！」\n",
      "# ……てか、なんでそんなに慌ててるんだ？」\n",
      "# 「ルーク、“やっぱり”ってどういうことだ？」\n",
      "# 「おいまてよ。\n",
      "# 他国を横断しての長い旅だ。\n",
      "# 「なるほど、そういうことですか。\n",
      "# わたしの隣は、オズくんのためにあけたスペースだから」\n",
      "# 「うわああああああっ！？　ゴンお前なにやってんだ離れろッ！　――ごめんなさい！　うちのペットが粗相を……ん？」\n",
      "# 「……はぁはぁ……オズくんすごい……んんっ……もう、完ぺきだよ……」\n",
      "# 「オズくんあぶないよ！　つかまってて！」\n",
      "# デイ家の恥さらしくん」\n",
      "# 「わ、わたしだって……」\n",
      "# あの優しい笑顔は、もう見ることはできないんだ。\n"
     ]
    }
   ],
   "source": [
    "line = \"オズくんのことが好きです\"\n",
    "similar(line)"
   ]
  },
  {
   "cell_type": "code",
   "execution_count": 48,
   "metadata": {
    "collapsed": false
   },
   "outputs": [
    {
     "name": "stdout",
     "output_type": "stream",
     "text": [
      "ちょっとルークオズくんにへんな趣味教えないでよ\n",
      "メニューログアウトおいログアウトオズは何度も叫んだ\n",
      "中級上級プロバスターに匹敵する実力をもつこの三人の少年がそうねスー従者の声に皇国の姫はうなずいた\n",
      "そうだオズくん行くあてがないならバルダさんの花屋で雇ってもらうのはどうバルダさんこの前そろそろ従業員でも雇おうかなって言ってたよねオズは首をひねる\n",
      "オズくんが足を引っぱることなんてないよ\n",
      "治癒効果をもつそうよ\n",
      "いきなり耳のことを聞くのは失礼に当たることだったのかもしれない\n",
      "あとさんづけもいらねえ\n",
      "俺がオズリトヘンデって名乗ることオズは手に持った花を花立てに供えた\n",
      "ボクはそこそこ楽しめたかなぁルークが背を伸ばしながら笑みを浮かべる\n"
     ]
    }
   ],
   "source": [
    "# s2w = lambda sentence: gensim.utils.simple_preprocess(mecab.parse(sentence), min_len=1)\n",
    "line = \"オズくんのことが好きです\"\n",
    "model = gensim.models.Doc2Vec.load(\"oz_doc2vec.model\")\n",
    "vec = model.infer_vector(s2w(line))\n",
    "sims = cosine_similarity([vec], doc_vecs)\n",
    "index = np.argsort(sims[0])[::-1]\n",
    "for i in range(10):\n",
    "    print(''.join(doc[index[i]]))"
   ]
  }
 ],
 "metadata": {
  "kernelspec": {
   "display_name": "Python 3",
   "language": "python",
   "name": "python3"
  },
  "language_info": {
   "codemirror_mode": {
    "name": "ipython",
    "version": 3
   },
   "file_extension": ".py",
   "mimetype": "text/x-python",
   "name": "python",
   "nbconvert_exporter": "python",
   "pygments_lexer": "ipython3",
   "version": "3.6.0"
  }
 },
 "nbformat": 4,
 "nbformat_minor": 2
}
