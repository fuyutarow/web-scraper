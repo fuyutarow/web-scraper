{
 "cells": [
  {
   "cell_type": "code",
   "execution_count": 3,
   "metadata": {
    "collapsed": true
   },
   "outputs": [],
   "source": [
    "from gensim.models import word2vec\n",
    "sentences = word2vec.Text8Corpus('oz_wakatiall.txt')\n",
    "model = word2vec.Word2Vec(sentences, size=200) "
   ]
  },
  {
   "cell_type": "code",
   "execution_count": 4,
   "metadata": {
    "collapsed": false
   },
   "outputs": [
    {
     "data": {
      "text/plain": [
       "[('が', 0.9985324144363403),\n",
       " ('は', 0.9985226392745972),\n",
       " ('目', 0.9983760118484497),\n",
       " ('いた', 0.9980243444442749),\n",
       " ('その', 0.9980101585388184),\n",
       " ('たち', 0.9979753494262695),\n",
       " ('いる', 0.9979581832885742),\n",
       " ('ながら', 0.9977624416351318),\n",
       " ('彼', 0.9976675510406494),\n",
       " ('二', 0.9976126551628113)]"
      ]
     },
     "execution_count": 4,
     "metadata": {},
     "output_type": "execute_result"
    }
   ],
   "source": [
    "model.most_similar('オズ')"
   ]
  }
 ],
 "metadata": {
  "kernelspec": {
   "display_name": "Python 3",
   "language": "python",
   "name": "python3"
  },
  "language_info": {
   "codemirror_mode": {
    "name": "ipython",
    "version": 3
   },
   "file_extension": ".py",
   "mimetype": "text/x-python",
   "name": "python",
   "nbconvert_exporter": "python",
   "pygments_lexer": "ipython3",
   "version": "3.6.0"
  }
 },
 "nbformat": 4,
 "nbformat_minor": 2
}
