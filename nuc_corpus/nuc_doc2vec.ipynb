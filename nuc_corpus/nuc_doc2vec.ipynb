{
 "cells": [
  {
   "cell_type": "code",
   "execution_count": 1,
   "metadata": {
    "collapsed": true
   },
   "outputs": [],
   "source": [
    "import numpy as np\n",
    "import gensim\n",
    "from gensim import models\n",
    "from gensim.models import doc2vec\n",
    "from sklearn.metrics.pairwise import cosine_similarity\n",
    "import MeCab\n",
    "mecab = MeCab.Tagger(\"-Owakati -d /usr/local/lib/mecab/dic/mecab-ipadic-neologd/\") \n",
    "\n",
    "wakati = lambda sentence: gensim.utils.simple_preprocess(mecab.parse(sentence), min_len=1)\n",
    "def read_corpus(fname):\n",
    "    with open(fname) as f:\n",
    "        for i, line in enumerate(f):\n",
    "            yield doc2vec.TaggedDocument(wakati(line), tags=[i])"
   ]
  },
  {
   "cell_type": "code",
   "execution_count": 2,
   "metadata": {
    "collapsed": true
   },
   "outputs": [],
   "source": [
    "def similar(line):\n",
    "    vec = model.infer_vector(wakati(line))\n",
    "    sims = cosine_similarity([vec], doc_vecs)\n",
    "    index = np.argsort(sims[0])[::-1]\n",
    "    for i in range(100):\n",
    "        print('#',''.join(doc[index[i]].split(' ')))"
   ]
  },
  {
   "cell_type": "code",
   "execution_count": null,
   "metadata": {
    "collapsed": true
   },
   "outputs": [],
   "source": [
    "fname = 'nuc-utf8/dataall.utf8.txt'\n"
   ]
  },
  {
   "cell_type": "code",
   "execution_count": 3,
   "metadata": {
    "collapsed": false
   },
   "outputs": [],
   "source": [
    "fname = 'nuc-utf8/dataall.utf8.txt'\n",
    "gname = 'nuc_models/dataall.ln.model'\n",
    "train_corpus = list(read_corpus(fname))\n",
    "model = doc2vec.Doc2Vec(\n",
    "    size=100, window=5, min_count=1, iter=20, workers=4, dm=1)\n",
    "model.build_vocab(train_corpus)\n",
    "model.train(train_corpus, total_examples=model.corpus_count)\n",
    "model.save(gname)\n",
    "doc = open(fname).read().split('\\n')\n",
    "doc_vecs = [ model.infer_vector(wakati(mecab.parse(line))) for line in doc ]\n",
    "model = gensim.models.Doc2Vec.load(gname)"
   ]
  },
  {
   "cell_type": "code",
   "execution_count": 5,
   "metadata": {
    "collapsed": false
   },
   "outputs": [
    {
     "name": "stdout",
     "output_type": "stream",
     "text": [
      "# F140：あ、でも４３分録ったってこと？\n",
      "# ちょっとはしたないこと。\n",
      "# F128：白パンか黒パンかってこと？　\n",
      "# （うん）人気あるところは、うん、そんなことないけど。\n",
      "# F058：え、ないよそんなの。\n",
      "# 足がこんなふうにはれるってことはない。\n",
      "# あれは前、モケのことだったのかなあ。\n",
      "# F038：あっ、めっちゃ、だるくないってこと？\n",
      "# F103：ことない。\n",
      "# 適当なものを。\n",
      "# ユースケは、ユースケサンタマリアは、福岡だから博多弁なのさ。\n",
      "# F004：孤立だよ。\n",
      "# M019：Ｃ２さんの修士論文の話を聞くといっつも、壮大なことをやりたいんだなあって。\n",
      "# F057：ええ、ええ、どいうこと？\n",
      "# F048：そうなんですか。\n",
      "# やっぱアプローチが。\n",
      "# F127：私もないな。\n",
      "# F123：チゲなべってことでしょう。\n",
      "# F092：言われたことないわ。\n",
      "# まさか、＊そんなことあるわけない＊。\n",
      "# F093：ひきこもりってこと？\n",
      "# F004：鏑木なんだ。\n",
      "# F005：うん、人のことは全然覚えてない。\n",
      "# F004：業者がね。\n",
      "# M010：あ、俺も聞いたことないな。\n",
      "# だって３タイプってことでしょう？\n",
      "# ＜笑い＞務めたときに？\n",
      "# 英語科の人？\n",
      "# F048：あー、そっかー。\n",
      "# ずっと離れたことなければね。\n",
      "# ４人かな？\n",
      "# あからさまに嫌ったりするときとか、いじめみたいな感じで。\n",
      "# 似たようなことを。\n",
      "# （うん）一番気に入ったことでサバイバルですかね。\n",
      "# F048：刺さるかな？。\n",
      "# （うん）じゃ、Ｉ２さんかな。\n",
      "# なら聞いたことあります。\n",
      "# チャルトリスキ・コレクションのことでしょう。\n",
      "# やりたいねー。\n",
      "# F050：踊ったことある。\n",
      "# あんまり、あんまり好きじゃないですね。\n",
      "# F074：あ、そうなんですか。\n",
      "# F004：そうなんだ。\n",
      "# モンサン・ミッチェルって。\n",
      "# こんな遅くまで起きてたことない。\n",
      "# F013：Ｂちゃん【M031のこと】は？\n",
      "# 番、番犬なのかペットだからか、何か。\n",
      "# 行ったことなーい。\n",
      "# うん、わたしのこと臭いってみんな思ってないかなって思って。\n",
      "# 終わらせるべきことは終わらせて、いかなきゃ。\n",
      "# F021：まーじでー。\n",
      "# 宿屋。\n",
      "# うん、んなことない。\n",
      "# F149：な、話すことないもんね。\n",
      "# お金が。\n",
      "# F038：いいよー。\n",
      "# というかがっしりしてる。\n",
      "# F155：ちょっと何、話したいことって？\n",
      "# F001：あのイガ栗むいたこと。\n",
      "# F125：なーんか変なとこでプライド使ってるから、すり減ってんじゃない？\n",
      "# そんなことないよー。\n",
      "# あら似合うわー。\n",
      "# M037：そうなのか。\n",
      "# F046：超楽しいよー。\n",
      "# ぷが付いたような名前。\n",
      "# ただ、ただそのね、簡単なことなんです。\n",
      "# M032：えー、旅の話もそろそろ尽きてきたわけですが。\n",
      "# F099：慣れてるんじゃないかな。\n",
      "# デッキブラシで。\n",
      "# F004：へー。\n",
      "# F152：あ、その程度。\n",
      "# F040：歓声なのかなんだかなんだか。\n",
      "# え？\n",
      "# F059：ねえ、アリバンの、タリバンのことってもう、ほとんど解決したわけ？\n",
      "# Ｘ：ご注文の方よろしいでしょうか？\n",
      "# F093：男の方がこまやかなのかな、結局のところ。\n",
      "# （え？）＊プレフェリーシ＊？\n",
      "# Ｘ：お金持ちなの。\n",
      "# 甘く見られる。\n",
      "# で、今晩は温かいものが食べたかったじゃん。\n",
      "# とおれないだもの。\n",
      "# 送ってきた？\n",
      "# F128：まじでー。\n",
      "# F124：うーん、ちょっと想像できないんですね、（うん）今まで空き地だったところなので。\n",
      "# F150：そうだな。\n",
      "# 何曜日がいいかなー。\n",
      "# F128：すっごいそのね、マニュアル人間なの。\n",
      "# ＠データ１２０（４０分）\n",
      "# あんまり生ものなくてー。\n",
      "# Ｘ：あ、すいません。\n",
      "# F008：トランプ。\n",
      "# 初日の出だよ。\n",
      "# （そうなんだ）そうなのよ。\n",
      "# （おー）あんたが和服着て、着たときのことだよ。\n",
      "# それごまかされてた？\n",
      "# F005：作ってみよー。\n",
      "# F058：それはちょっと無理かな。\n",
      "# F098：うん。\n",
      "# まー、小倉だけど。\n",
      "# F004：そうか。\n"
     ]
    }
   ],
   "source": [
    "line = \"世にも奇妙なことがあるものだ\"\n",
    "similar(line)"
   ]
  }
 ],
 "metadata": {
  "kernelspec": {
   "display_name": "Python 3",
   "language": "python",
   "name": "python3"
  },
  "language_info": {
   "codemirror_mode": {
    "name": "ipython",
    "version": 3
   },
   "file_extension": ".py",
   "mimetype": "text/x-python",
   "name": "python",
   "nbconvert_exporter": "python",
   "pygments_lexer": "ipython3",
   "version": "3.6.0"
  }
 },
 "nbformat": 4,
 "nbformat_minor": 2
}
