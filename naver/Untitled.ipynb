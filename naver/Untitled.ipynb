{
 "cells": [
  {
   "cell_type": "code",
   "execution_count": 1,
   "metadata": {
    "collapsed": true
   },
   "outputs": [],
   "source": [
    "import os\n",
    "import urllib.request\n",
    "from bs4 import BeautifulSoup\n",
    "import re\n",
    "from datetime import datetime\n",
    "from pytz import timezone\n",
    "import pandas as pd\n",
    "import csv\n",
    "import time\n",
    "\n",
    "def iso2utc(iso):\n",
    "    try:\n",
    "        return timezone('UTC').localize(pd.to_datetime(iso))\n",
    "    except:\n",
    "        return None\n",
    "\n",
    "def url_html(url):\n",
    "    req = urllib.request.Request(url)\n",
    "    res = urllib.request.urlopen(req)\n",
    "    html = res.read()\n",
    "    return html"
   ]
  },
  {
   "cell_type": "code",
   "execution_count": 8,
   "metadata": {
    "collapsed": false
   },
   "outputs": [
    {
     "name": "stdout",
     "output_type": "stream",
     "text": [
      "竹野内豊も初主演！秋の「ＮＨＫドラマ」が楽しそう https://matome.naver.jp/odai/2150063735056186801 https://rr.img.naver.jp/mig?src=http%3A%2F%2Fimgcc.naver.jp%2Fkaze%2Fmission%2FUSER%2F20170721%2F71%2F7306501%2F144%2F478x478x809046d32283b089634cb40f.jpg&twidth=60&theight=60&qlt=80&res_format=jpg&op=sc\n",
      "イモトアヤコだけじゃない‥最近､女芸人たちの美人化が止まらない… https://matome.naver.jp/odai/2150063904056983501 https://rr.img.naver.jp/mig?src=http%3A%2F%2Fimgcc.naver.jp%2Fkaze%2Fmission%2FUSER%2F20170722%2F31%2F3056261%2F5%2F240x240xc886a1217dd0fd796ebfd970.jpg&twidth=60&theight=60&qlt=80&res_format=jpg&op=sc\n",
      "青いストライプのシャツを着てにっこり…４歳になったジョージ王子… https://matome.naver.jp/odai/2150069296076264701 https://rr.img.naver.jp/mig?src=https%3A%2F%2Fmedia.gettyimages.com%2Fphotos%2Fthis-photograph-is-provided-to-you-strictly-on-condition-that-you-picture-id820429368%3Fb%3D1%26k%3D6%26m%3D820429368%26s%3D612x612%26w%3D0%26h%3DMTyzZNqgA806rzfYQACV7LuGtDC65jaIeKwa2T6NZ58%3D&twidth=60&theight=60&qlt=80&res_format=jpg&op=sc\n",
      "パクチストをうならせる!?パクチーの新メニュー新商品が美味しそ… https://matome.naver.jp/odai/2150069495677667401 https://rr.img.naver.jp/mig?src=https%3A%2F%2Fimages-fe.ssl-images-amazon.com%2Fimages%2FI%2F61n1idTDCUL.jpg&twidth=60&theight=60&qlt=80&res_format=jpg&op=sc\n",
      "Twitter発。まるでドラマのような『出逢いエピソード』 https://matome.naver.jp/odai/2147763127992770301 https://rr.img.naver.jp/mig?src=http%3A%2F%2Fimgcc.naver.jp%2Fkaze%2Fmission%2FUSER%2F20170722%2F58%2F5842128%2F61%2F261x261x3f0c579df34c3c1a905c365b.jpg&twidth=60&theight=60&qlt=80&res_format=jpg&op=sc\n",
      "捨てられない…「はぎれ」で作る可愛い「ファブリックアイテム」た… https://matome.naver.jp/odai/2150053569508496201 https://rr.img.naver.jp/mig?src=http%3A%2F%2Fimgcc.naver.jp%2Fkaze%2Fmission%2FUSER%2F20170720%2F72%2F7890452%2F43%2F480x480x8b43f93b4f2bfe01c81dbe93.jpg&twidth=60&theight=60&qlt=80&res_format=jpg&op=sc\n",
      "インパクトあり！きゃりーにポドルスキも‥日本語ブームの兆し https://matome.naver.jp/odai/2150067662367586301 https://rr.img.naver.jp/mig?src=http%3A%2F%2Fimgcc.naver.jp%2Fkaze%2Fmission%2FUSER%2F20170722%2F41%2F4653891%2F31%2F712x712x8fbe875a623c72416864c8d9.jpg&twidth=60&theight=60&qlt=80&res_format=jpg&op=sc\n",
      "こじんまり楽しむのも◎3千発以下の8月花火大会（東京） https://matome.naver.jp/odai/2150068880974244601 https://rr.img.naver.jp/mig?src=https%3A%2F%2Fmedia.gettyimages.com%2Fphotos%2Ffireworks-picture-id86540983%3Fb%3D1%26k%3D6%26m%3D86540983%26s%3D612x612%26w%3D0%26h%3DCsFOzktiEQfz7929T3DkupU446k87fWfc7iH2mndEnc%3D&twidth=60&theight=60&qlt=80&res_format=jpg&op=sc\n",
      "ワンピースだけじゃない…ハリウッドデビューする日本の漫画たち https://matome.naver.jp/odai/2150070237982928901 https://rr.img.naver.jp/mig?src=https%3A%2F%2Fimages-fe.ssl-images-amazon.com%2Fimages%2FI%2F51uHRSIE8IL.jpg&twidth=60&theight=60&qlt=80&res_format=jpg&op=sc\n",
      "便利すぎると話題！〇〇の収納に使える「ダイソーのアイテム」５選 https://matome.naver.jp/odai/2150064098058137301 https://rr.img.naver.jp/mig?src=http%3A%2F%2Fimgcc.naver.jp%2Fkaze%2Fmission%2FUSER%2F20170722%2F52%2F5881052%2F24%2F900x900x8b2ae509c3227ed3574e0ff5.jpg&twidth=60&theight=60&qlt=80&res_format=jpg&op=sc\n",
      "初キスの場所も公表...おばたのお兄さんと山崎アナの\"その後\"… https://matome.naver.jp/odai/2150067790868134601 https://rr.img.naver.jp/mig?src=https%3A%2F%2Fmedia.gettyimages.com%2Fphotos%2Fclose-up-of-couple-holding-hands-picture-id107429725%3Fb%3D1%26k%3D6%26m%3D107429725%26s%3D612x612%26w%3D0%26h%3D3xYVG8r5lVCOAuuZNV_gi-BLTGNA7ncjAsuwrobHaXo%3D&twidth=60&theight=60&qlt=80&res_format=jpg&op=sc\n",
      "こっちが本命!?みんなの美術館限定スイーツが可愛すぎる♡ https://matome.naver.jp/odai/2150060977337851201 https://rr.img.naver.jp/mig?src=http%3A%2F%2Fimgcc.naver.jp%2Fkaze%2Fmission%2FUSER%2F20170722%2F67%2F6041007%2F18%2F233x233x39d45384fc59621ace926f47.jpg&twidth=60&theight=60&qlt=80&res_format=jpg&op=sc\n",
      "鋭い目つきの初音ミクも！米津玄師「ハチ」名義の新作MVに注目 https://matome.naver.jp/odai/2150067009266104701 https://rr.img.naver.jp/mig?src=http%3A%2F%2Fimgcc.naver.jp%2Fkaze%2Fmission%2FUSER%2F20170722%2F76%2F7639436%2F21%2F120x120xef6b212da42dd00385f35187.jpg&twidth=60&theight=60&qlt=80&res_format=jpg&op=sc\n",
      "大事だよね・・。Twitterで見つけた「完全なるパケ買い」 https://matome.naver.jp/odai/2150047280876093201 https://rr.img.naver.jp/mig?src=https%3A%2F%2Fimages-fe.ssl-images-amazon.com%2Fimages%2FI%2F514sJnHXQtL.jpg&twidth=60&theight=60&qlt=80&res_format=jpg&op=sc\n",
      "全員が活躍ってスゴい！！『AAA』メンバーのソロ活動に注目！ https://matome.naver.jp/odai/2150047330176571801 https://rr.img.naver.jp/mig?src=http%3A%2F%2Fimgcc.naver.jp%2Fkaze%2Fmission%2FUSER%2F20170722%2F78%2F7644308%2F1%2F190x190x8fdead063b7b951b760ac75e.jpg&twidth=60&theight=60&qlt=80&res_format=jpg&op=sc\n",
      "ブログ一筋だった辻希美も開設‥最近はじめた有名人のインスタに反… https://matome.naver.jp/odai/2150068602172149401 https://rr.img.naver.jp/mig?src=http%3A%2F%2Fimgcc.naver.jp%2Fkaze%2Fmission%2FUSER%2F20170722%2F41%2F4653891%2F52%2F728x728xec19b4e0d9cab8fcf908ad58.jpg&twidth=60&theight=60&qlt=80&res_format=jpg&op=sc\n",
      "Twitterで見かけた『ツイッターをやって思った事』が興味深… https://matome.naver.jp/odai/2150068363871245401 https://rr.img.naver.jp/mig?src=https%3A%2F%2Fmedia.gettyimages.com%2Fphotos%2Fbusinesswoman-posing-with-cell-phone-picture-id87809408%3Fb%3D1%26k%3D6%26m%3D87809408%26s%3D612x612%26w%3D0%26h%3DyRtNnd_3oqjpBFRVd1Jw5Akaky95DRPRATfjhAoOW74%3D&twidth=60&theight=60&qlt=80&res_format=jpg&op=sc\n",
      "うんこ漢字ドリルがイベント!?ナンジャタウンでうんこ漢字タウン… https://matome.naver.jp/odai/2150069258976138501 https://rr.img.naver.jp/mig?src=https%3A%2F%2Fimages-fe.ssl-images-amazon.com%2Fimages%2FI%2F51d4c2JcACL.jpg&twidth=60&theight=60&qlt=80&res_format=jpg&op=sc\n",
      "夏も大活躍する♡「デニムワイドパンツ」のおしゃれなコーディネー… https://matome.naver.jp/odai/2150062027246453101 https://rr.img.naver.jp/mig?src=http%3A%2F%2Fimgcc.naver.jp%2Fkaze%2Fmission%2FUSER%2F20170722%2F46%2F4515496%2F11%2F354x354x20fa6915b2141eeedf7b0336.jpg&twidth=60&theight=60&qlt=80&res_format=jpg&op=sc\n",
      "今すぐコンビニへGO♡最近新発売された「スイーツ」がどれも絶品… https://matome.naver.jp/odai/2150069651679116001 https://rr.img.naver.jp/mig?src=http%3A%2F%2Fimgcc.naver.jp%2Fkaze%2Fmission%2FUSER%2F20170722%2F52%2F5881052%2F55%2F1080x1080x1fc1305a5b17f76fcf14a9.jpg&twidth=60&theight=60&qlt=80&res_format=jpg&op=sc\n"
     ]
    }
   ],
   "source": [
    "root_url = 'https://matome.naver.jp'\n",
    "html = url_html(root_url)\n",
    "soup = BeautifulSoup(html,'html.parser')\n",
    "for li in soup.select('.mdTopMTMList01List')[0].select('li'):\n",
    "    text = li.select('.mdTopMTMList01ItemTtl')[0].text\n",
    "    url = root_url + li.select('.mdTopMTMList01ItemTtl')[0].a.get('href')\n",
    "    img = li.find('img').get('src')\n",
    "    print(text, url, img)"
   ]
  },
  {
   "cell_type": "code",
   "execution_count": null,
   "metadata": {
    "collapsed": true
   },
   "outputs": [],
   "source": [
    "\n",
    "\n",
    "def br2ln(soup):\n",
    "    text = str(soup)\n",
    "    text = re.sub('^(.+?)&gt;&gt;([0-9]+)<br>(.+?)$','\\\\1<anchor>\\\\2</anchor><text>\\\\3</text>',text)\n",
    "    text = re.sub('<br\\s*?>', '\\n', text)\n",
    "    text = re.sub('\\n+', '\\n', text)\n",
    "    return BeautifulSoup(text,'html.parser')\n",
    "\n",
    "def url_csv(url):\n",
    "    max_col_nb = 6\n",
    "    \n",
    "    html = url_html(url)\n",
    "    soup = BeautifulSoup(html,'html.parser')\n",
    "    t = [ a.extract() for a in soup.select('ares')]\n",
    "    t = [ e.extract() for e in soup.select('aside')]\n",
    "\n",
    "    lines = []\n",
    "\n",
    "    a = soup.select('.article_time')[0].text.split()\n",
    "    YYYY, mm, dd = a[0].split('-')\n",
    "    HH, MM, SS = a[1].split(':')\n",
    "    iso = YYYY+mm+dd+'T'+HH+MM+SS\n",
    "    since = iso2utc(iso).isoformat()\n",
    "\n",
    "    res0 = soup.select('.main_article_title')[0].text.split()[0]\n",
    "    img = soup.select('.main_article_thumb')[0].select('img')[0].get('src')\n",
    "    \n",
    "    line = [str(0),'-1',res0,since,url,img]\n",
    "    lines.append(line)\n",
    "\n",
    "    for block in soup.select('.res_block'):\n",
    "        if len(block.select('.news_quote')):\n",
    "            res = '1'\n",
    "            since = since\n",
    "            news_quote = br2ln(block.select('.news_quote')[0])\n",
    "            text = news_quote.text\n",
    "            anchor = '0'\n",
    "            imgs = [ e.get('src') for e in news_quote.select('img') ]\n",
    "\n",
    "        if len(block.select('.res_info')):\n",
    "            if not 'id' in block.attrs:\n",
    "                res_body = br2ln(block.find_all(class_=re.compile('^res_body*'))[0])\n",
    "                imgs = [ e.get('src') for e in res_body.select('img') ]\n",
    "                lines[-1]+=imgs\n",
    "                continue\n",
    "            \n",
    "            res = block.get('id').split('_')[1]\n",
    "\n",
    "            date = block.select('.res_date')[0].text\n",
    "            YYYY, mm, DD = date.split('(')[0].split('/')\n",
    "            HH, MM, SS = date.split(')')[1].split()[0].split('.')[0].split(':')\n",
    "            iso = YYYY+mm+dd+'T'+HH+MM+SS\n",
    "            since = iso2utc(iso).isoformat()\n",
    "\n",
    "            res_body = br2ln(block.find_all(class_=re.compile('^res_body*'))[0]) \n",
    "            text = res_body.text\n",
    "            \n",
    "            anchor = '0'\n",
    "            if len(res_body.select('anchor')):\n",
    "                anchor = res_body.find('anchor').text\n",
    "                text = res_body.find('text').text\n",
    "\n",
    "            imgs = [ e.get('src') for e in res_body.select('img') ]\n",
    "            \n",
    "        line = [str(res),str(anchor),text,since,url]+imgs\n",
    "        lines.append(line)\n",
    "        max_col_nb = max(max_col_nb, len(line))\n",
    "\n",
    "    header = ['res','anchor','text','since','url','img']\n",
    "    header+= ['img' for _ in range( max_col_nb - 6 ) ]\n",
    "\n",
    "    return [header] + lines"
   ]
  }
 ],
 "metadata": {
  "kernelspec": {
   "display_name": "Python 3",
   "language": "python",
   "name": "python3"
  },
  "language_info": {
   "codemirror_mode": {
    "name": "ipython",
    "version": 3
   },
   "file_extension": ".py",
   "mimetype": "text/x-python",
   "name": "python",
   "nbconvert_exporter": "python",
   "pygments_lexer": "ipython3",
   "version": "3.6.0"
  }
 },
 "nbformat": 4,
 "nbformat_minor": 2
}
