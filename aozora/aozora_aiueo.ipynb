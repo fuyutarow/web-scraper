{
 "cells": [
  {
   "cell_type": "code",
   "execution_count": 4,
   "metadata": {
    "collapsed": true
   },
   "outputs": [],
   "source": [
    "import os\n",
    "import glob\n",
    "import urllib.request\n",
    "import codecs\n",
    "import csv\n",
    "from bs4 import BeautifulSoup\n",
    "import time"
   ]
  },
  {
   "cell_type": "code",
   "execution_count": 5,
   "metadata": {
    "collapsed": true
   },
   "outputs": [],
   "source": [
    "def url_html(url):\n",
    "    req = urllib.request.Request(url)\n",
    "    res = urllib.request.urlopen(req)\n",
    "    html = res.read()\n",
    "    return html"
   ]
  },
  {
   "cell_type": "code",
   "execution_count": 4,
   "metadata": {
    "collapsed": false
   },
   "outputs": [],
   "source": [
    "root_url = 'http://www.aozora.gr.jp/'\n",
    "open('aozora_aiueo.txt','w').write('')\n",
    "\n",
    "html = url_html(root_url)\n",
    "soup = BeautifulSoup(html,'html.parser')\n",
    "aiueo = [ root_url+a.get('href') for a in soup.select('a[href^=\"index_pages/sakuhin_\"]') ]"
   ]
  },
  {
   "cell_type": "code",
   "execution_count": 5,
   "metadata": {
    "collapsed": false,
    "scrolled": true
   },
   "outputs": [],
   "source": [
    "index_url = 'http://www.aozora.gr.jp/index_pages/'\n",
    "for ai in aiueo:\n",
    "    html = url_html(ai)\n",
    "    soup = BeautifulSoup(html,'html.parser')\n",
    "    try:\n",
    "        ueo = [ index_url+a.get('href') for a in\n",
    "              soup.find('table').select('a[href^=\"sakuhin_\"]')][:-1]\n",
    "    except:\n",
    "        ueo = []\n",
    "        \n",
    "    with open('aozora_aiueo.txt','a') as f:\n",
    "        for a in [ai]+ueo:\n",
    "            f.write(a+'\\n')"
   ]
  },
  {
   "cell_type": "code",
   "execution_count": 2,
   "metadata": {
    "collapsed": false
   },
   "outputs": [
    {
     "name": "stdout",
     "output_type": "stream",
     "text": [
      "['http://www.aozora.gr.jp/index_pages/sakuhin_a1.html', 'http://www.aozora.gr.jp/index_pages/sakuhin_a2.html', 'http://www.aozora.gr.jp/index_pages/sakuhin_a3.html', 'http://www.aozora.gr.jp/index_pages/sakuhin_a4.html', 'http://www.aozora.gr.jp/index_pages/sakuhin_a5.html', 'http://www.aozora.gr.jp/index_pages/sakuhin_a6.html', 'http://www.aozora.gr.jp/index_pages/sakuhin_a7.html', 'http://www.aozora.gr.jp/index_pages/sakuhin_a8.html', 'http://www.aozora.gr.jp/index_pages/sakuhin_a9.html', 'http://www.aozora.gr.jp/index_pages/sakuhin_a10.html', 'http://www.aozora.gr.jp/index_pages/sakuhin_a11.html', 'http://www.aozora.gr.jp/index_pages/sakuhin_a12.html', 'http://www.aozora.gr.jp/index_pages/sakuhin_a13.html', 'http://www.aozora.gr.jp/index_pages/sakuhin_a14.html', 'http://www.aozora.gr.jp/index_pages/sakuhin_a15.html', 'http://www.aozora.gr.jp/index_pages/sakuhin_a16.html', 'http://www.aozora.gr.jp/index_pages/sakuhin_a17.html', 'http://www.aozora.gr.jp/index_pages/sakuhin_ka1.html', 'http://www.aozora.gr.jp/index_pages/sakuhin_ka2.html', 'http://www.aozora.gr.jp/index_pages/sakuhin_ka3.html', 'http://www.aozora.gr.jp/index_pages/sakuhin_ka4.html', 'http://www.aozora.gr.jp/index_pages/sakuhin_ka5.html', 'http://www.aozora.gr.jp/index_pages/sakuhin_ka6.html', 'http://www.aozora.gr.jp/index_pages/sakuhin_ka7.html', 'http://www.aozora.gr.jp/index_pages/sakuhin_ka8.html', 'http://www.aozora.gr.jp/index_pages/sakuhin_ka9.html', 'http://www.aozora.gr.jp/index_pages/sakuhin_ka10.html', 'http://www.aozora.gr.jp/index_pages/sakuhin_ka11.html', 'http://www.aozora.gr.jp/index_pages/sakuhin_ka12.html', 'http://www.aozora.gr.jp/index_pages/sakuhin_ka13.html', 'http://www.aozora.gr.jp/index_pages/sakuhin_ka14.html', 'http://www.aozora.gr.jp/index_pages/sakuhin_ka15.html', 'http://www.aozora.gr.jp/index_pages/sakuhin_ka16.html', 'http://www.aozora.gr.jp/index_pages/sakuhin_sa1.html', 'http://www.aozora.gr.jp/index_pages/sakuhin_sa2.html', 'http://www.aozora.gr.jp/index_pages/sakuhin_sa3.html', 'http://www.aozora.gr.jp/index_pages/sakuhin_sa4.html', 'http://www.aozora.gr.jp/index_pages/sakuhin_sa5.html', 'http://www.aozora.gr.jp/index_pages/sakuhin_sa6.html', 'http://www.aozora.gr.jp/index_pages/sakuhin_sa7.html', 'http://www.aozora.gr.jp/index_pages/sakuhin_sa8.html', 'http://www.aozora.gr.jp/index_pages/sakuhin_sa9.html', 'http://www.aozora.gr.jp/index_pages/sakuhin_ta1.html', 'http://www.aozora.gr.jp/index_pages/sakuhin_ta2.html', 'http://www.aozora.gr.jp/index_pages/sakuhin_ta3.html', 'http://www.aozora.gr.jp/index_pages/sakuhin_ta4.html', 'http://www.aozora.gr.jp/index_pages/sakuhin_ta5.html', 'http://www.aozora.gr.jp/index_pages/sakuhin_ta6.html', 'http://www.aozora.gr.jp/index_pages/sakuhin_ta7.html', 'http://www.aozora.gr.jp/index_pages/sakuhin_ta8.html', 'http://www.aozora.gr.jp/index_pages/sakuhin_ta9.html', 'http://www.aozora.gr.jp/index_pages/sakuhin_na1.html', 'http://www.aozora.gr.jp/index_pages/sakuhin_na2.html', 'http://www.aozora.gr.jp/index_pages/sakuhin_na3.html', 'http://www.aozora.gr.jp/index_pages/sakuhin_na4.html', 'http://www.aozora.gr.jp/index_pages/sakuhin_na5.html', 'http://www.aozora.gr.jp/index_pages/sakuhin_ha1.html', 'http://www.aozora.gr.jp/index_pages/sakuhin_ha2.html', 'http://www.aozora.gr.jp/index_pages/sakuhin_ha3.html', 'http://www.aozora.gr.jp/index_pages/sakuhin_ha4.html', 'http://www.aozora.gr.jp/index_pages/sakuhin_ha5.html', 'http://www.aozora.gr.jp/index_pages/sakuhin_ha6.html', 'http://www.aozora.gr.jp/index_pages/sakuhin_ha7.html', 'http://www.aozora.gr.jp/index_pages/sakuhin_ha8.html', 'http://www.aozora.gr.jp/index_pages/sakuhin_ha9.html', 'http://www.aozora.gr.jp/index_pages/sakuhin_ha10.html', 'http://www.aozora.gr.jp/index_pages/sakuhin_ha11.html', 'http://www.aozora.gr.jp/index_pages/sakuhin_ha12.html', 'http://www.aozora.gr.jp/index_pages/sakuhin_ha13.html', 'http://www.aozora.gr.jp/index_pages/sakuhin_ha14.html', 'http://www.aozora.gr.jp/index_pages/sakuhin_ha15.html', 'http://www.aozora.gr.jp/index_pages/sakuhin_ma1.html', 'http://www.aozora.gr.jp/index_pages/sakuhin_ma2.html', 'http://www.aozora.gr.jp/index_pages/sakuhin_ma3.html', 'http://www.aozora.gr.jp/index_pages/sakuhin_ma4.html', 'http://www.aozora.gr.jp/index_pages/sakuhin_ma5.html', 'http://www.aozora.gr.jp/index_pages/sakuhin_ya1.html', 'http://www.aozora.gr.jp/index_pages/sakuhin_ya2.html', 'http://www.aozora.gr.jp/index_pages/sakuhin_ya3.html', 'http://www.aozora.gr.jp/index_pages/sakuhin_ya4.html', 'http://www.aozora.gr.jp/index_pages/sakuhin_ra1.html', 'http://www.aozora.gr.jp/index_pages/sakuhin_ra2.html', 'http://www.aozora.gr.jp/index_pages/sakuhin_wa1.html', 'http://www.aozora.gr.jp/index_pages/sakuhin_wa2.html', 'http://www.aozora.gr.jp/index_pages/sakuhin_wa3.html', 'http://www.aozora.gr.jp/index_pages/sakuhin_wa4.html', 'http://www.aozora.gr.jp/index_pages/sakuhin_wa5.html', 'http://www.aozora.gr.jp/index_pages/sakuhin_wa6.html', 'http://www.aozora.gr.jp/index_pages/sakuhin_i1.html', 'http://www.aozora.gr.jp/index_pages/sakuhin_i2.html', 'http://www.aozora.gr.jp/index_pages/sakuhin_i3.html', 'http://www.aozora.gr.jp/index_pages/sakuhin_i4.html', 'http://www.aozora.gr.jp/index_pages/sakuhin_i5.html', 'http://www.aozora.gr.jp/index_pages/sakuhin_i6.html', 'http://www.aozora.gr.jp/index_pages/sakuhin_i7.html', 'http://www.aozora.gr.jp/index_pages/sakuhin_i8.html', 'http://www.aozora.gr.jp/index_pages/sakuhin_i9.html', 'http://www.aozora.gr.jp/index_pages/sakuhin_ki1.html', 'http://www.aozora.gr.jp/index_pages/sakuhin_ki2.html', 'http://www.aozora.gr.jp/index_pages/sakuhin_ki3.html', 'http://www.aozora.gr.jp/index_pages/sakuhin_ki4.html', 'http://www.aozora.gr.jp/index_pages/sakuhin_ki5.html', 'http://www.aozora.gr.jp/index_pages/sakuhin_ki6.html', 'http://www.aozora.gr.jp/index_pages/sakuhin_ki7.html', 'http://www.aozora.gr.jp/index_pages/sakuhin_ki8.html', 'http://www.aozora.gr.jp/index_pages/sakuhin_ki9.html', 'http://www.aozora.gr.jp/index_pages/sakuhin_ki10.html', 'http://www.aozora.gr.jp/index_pages/sakuhin_ki11.html', 'http://www.aozora.gr.jp/index_pages/sakuhin_ki12.html', 'http://www.aozora.gr.jp/index_pages/sakuhin_si1.html', 'http://www.aozora.gr.jp/index_pages/sakuhin_si2.html', 'http://www.aozora.gr.jp/index_pages/sakuhin_si3.html', 'http://www.aozora.gr.jp/index_pages/sakuhin_si4.html', 'http://www.aozora.gr.jp/index_pages/sakuhin_si5.html', 'http://www.aozora.gr.jp/index_pages/sakuhin_si6.html', 'http://www.aozora.gr.jp/index_pages/sakuhin_si7.html', 'http://www.aozora.gr.jp/index_pages/sakuhin_si8.html', 'http://www.aozora.gr.jp/index_pages/sakuhin_si9.html', 'http://www.aozora.gr.jp/index_pages/sakuhin_si10.html', 'http://www.aozora.gr.jp/index_pages/sakuhin_si11.html', 'http://www.aozora.gr.jp/index_pages/sakuhin_si12.html', 'http://www.aozora.gr.jp/index_pages/sakuhin_si13.html', 'http://www.aozora.gr.jp/index_pages/sakuhin_si14.html', 'http://www.aozora.gr.jp/index_pages/sakuhin_si15.html', 'http://www.aozora.gr.jp/index_pages/sakuhin_si16.html', 'http://www.aozora.gr.jp/index_pages/sakuhin_si17.html', 'http://www.aozora.gr.jp/index_pages/sakuhin_si18.html', 'http://www.aozora.gr.jp/index_pages/sakuhin_si19.html', 'http://www.aozora.gr.jp/index_pages/sakuhin_si20.html', 'http://www.aozora.gr.jp/index_pages/sakuhin_si21.html', 'http://www.aozora.gr.jp/index_pages/sakuhin_si22.html', 'http://www.aozora.gr.jp/index_pages/sakuhin_si23.html', 'http://www.aozora.gr.jp/index_pages/sakuhin_si24.html', 'http://www.aozora.gr.jp/index_pages/sakuhin_si25.html', 'http://www.aozora.gr.jp/index_pages/sakuhin_si26.html', 'http://www.aozora.gr.jp/index_pages/sakuhin_si27.html', 'http://www.aozora.gr.jp/index_pages/sakuhin_si28.html', 'http://www.aozora.gr.jp/index_pages/sakuhin_si29.html', 'http://www.aozora.gr.jp/index_pages/sakuhin_ti1.html', 'http://www.aozora.gr.jp/index_pages/sakuhin_ti2.html', 'http://www.aozora.gr.jp/index_pages/sakuhin_ti3.html', 'http://www.aozora.gr.jp/index_pages/sakuhin_ti4.html', 'http://www.aozora.gr.jp/index_pages/sakuhin_ti5.html', 'http://www.aozora.gr.jp/index_pages/sakuhin_ti6.html', 'http://www.aozora.gr.jp/index_pages/sakuhin_ti7.html', 'http://www.aozora.gr.jp/index_pages/sakuhin_ni1.html', 'http://www.aozora.gr.jp/index_pages/sakuhin_ni2.html', 'http://www.aozora.gr.jp/index_pages/sakuhin_ni3.html', 'http://www.aozora.gr.jp/index_pages/sakuhin_ni4.html', 'http://www.aozora.gr.jp/index_pages/sakuhin_ni5.html', 'http://www.aozora.gr.jp/index_pages/sakuhin_ni6.html', 'http://www.aozora.gr.jp/index_pages/sakuhin_ni7.html', 'http://www.aozora.gr.jp/index_pages/sakuhin_hi1.html', 'http://www.aozora.gr.jp/index_pages/sakuhin_hi2.html', 'http://www.aozora.gr.jp/index_pages/sakuhin_hi3.html', 'http://www.aozora.gr.jp/index_pages/sakuhin_hi4.html', 'http://www.aozora.gr.jp/index_pages/sakuhin_hi5.html', 'http://www.aozora.gr.jp/index_pages/sakuhin_hi6.html', 'http://www.aozora.gr.jp/index_pages/sakuhin_hi7.html', 'http://www.aozora.gr.jp/index_pages/sakuhin_hi8.html', 'http://www.aozora.gr.jp/index_pages/sakuhin_mi1.html', 'http://www.aozora.gr.jp/index_pages/sakuhin_mi2.html', 'http://www.aozora.gr.jp/index_pages/sakuhin_mi3.html', 'http://www.aozora.gr.jp/index_pages/sakuhin_mi4.html', 'http://www.aozora.gr.jp/index_pages/sakuhin_mi5.html', 'http://www.aozora.gr.jp/index_pages/sakuhin_ri1.html', 'http://www.aozora.gr.jp/index_pages/sakuhin_ri2.html', 'http://www.aozora.gr.jp/index_pages/sakuhin_ri3.html', 'http://www.aozora.gr.jp/index_pages/sakuhin_wo1.html', 'http://www.aozora.gr.jp/index_pages/sakuhin_u1.html', 'http://www.aozora.gr.jp/index_pages/sakuhin_u2.html', 'http://www.aozora.gr.jp/index_pages/sakuhin_u3.html', 'http://www.aozora.gr.jp/index_pages/sakuhin_u4.html', 'http://www.aozora.gr.jp/index_pages/sakuhin_u5.html', 'http://www.aozora.gr.jp/index_pages/sakuhin_u6.html', 'http://www.aozora.gr.jp/index_pages/sakuhin_ku1.html', 'http://www.aozora.gr.jp/index_pages/sakuhin_ku2.html', 'http://www.aozora.gr.jp/index_pages/sakuhin_ku3.html', 'http://www.aozora.gr.jp/index_pages/sakuhin_ku4.html', 'http://www.aozora.gr.jp/index_pages/sakuhin_ku5.html', 'http://www.aozora.gr.jp/index_pages/sakuhin_ku6.html', 'http://www.aozora.gr.jp/index_pages/sakuhin_su1.html', 'http://www.aozora.gr.jp/index_pages/sakuhin_su2.html', 'http://www.aozora.gr.jp/index_pages/sakuhin_su3.html', 'http://www.aozora.gr.jp/index_pages/sakuhin_su4.html', 'http://www.aozora.gr.jp/index_pages/sakuhin_tu1.html', 'http://www.aozora.gr.jp/index_pages/sakuhin_tu2.html', 'http://www.aozora.gr.jp/index_pages/sakuhin_tu3.html', 'http://www.aozora.gr.jp/index_pages/sakuhin_tu4.html', 'http://www.aozora.gr.jp/index_pages/sakuhin_nu1.html', 'http://www.aozora.gr.jp/index_pages/sakuhin_hu1.html', 'http://www.aozora.gr.jp/index_pages/sakuhin_hu2.html', 'http://www.aozora.gr.jp/index_pages/sakuhin_hu3.html', 'http://www.aozora.gr.jp/index_pages/sakuhin_hu4.html', 'http://www.aozora.gr.jp/index_pages/sakuhin_hu5.html', 'http://www.aozora.gr.jp/index_pages/sakuhin_hu6.html', 'http://www.aozora.gr.jp/index_pages/sakuhin_hu7.html', 'http://www.aozora.gr.jp/index_pages/sakuhin_hu8.html', 'http://www.aozora.gr.jp/index_pages/sakuhin_hu9.html', 'http://www.aozora.gr.jp/index_pages/sakuhin_hu10.html', 'http://www.aozora.gr.jp/index_pages/sakuhin_hu11.html', 'http://www.aozora.gr.jp/index_pages/sakuhin_mu1.html', 'http://www.aozora.gr.jp/index_pages/sakuhin_mu2.html', 'http://www.aozora.gr.jp/index_pages/sakuhin_mu3.html', 'http://www.aozora.gr.jp/index_pages/sakuhin_yu1.html', 'http://www.aozora.gr.jp/index_pages/sakuhin_yu2.html', 'http://www.aozora.gr.jp/index_pages/sakuhin_yu3.html', 'http://www.aozora.gr.jp/index_pages/sakuhin_yu4.html', 'http://www.aozora.gr.jp/index_pages/sakuhin_yu5.html', 'http://www.aozora.gr.jp/index_pages/sakuhin_ru1.html', 'http://www.aozora.gr.jp/index_pages/sakuhin_nn1.html', 'http://www.aozora.gr.jp/index_pages/sakuhin_e1.html', 'http://www.aozora.gr.jp/index_pages/sakuhin_e2.html', 'http://www.aozora.gr.jp/index_pages/sakuhin_e3.html', 'http://www.aozora.gr.jp/index_pages/sakuhin_e4.html', 'http://www.aozora.gr.jp/index_pages/sakuhin_ke1.html', 'http://www.aozora.gr.jp/index_pages/sakuhin_ke2.html', 'http://www.aozora.gr.jp/index_pages/sakuhin_ke3.html', 'http://www.aozora.gr.jp/index_pages/sakuhin_ke4.html', 'http://www.aozora.gr.jp/index_pages/sakuhin_ke5.html', 'http://www.aozora.gr.jp/index_pages/sakuhin_ke6.html', 'http://www.aozora.gr.jp/index_pages/sakuhin_ke7.html', 'http://www.aozora.gr.jp/index_pages/sakuhin_se1.html', 'http://www.aozora.gr.jp/index_pages/sakuhin_se2.html', 'http://www.aozora.gr.jp/index_pages/sakuhin_se3.html', 'http://www.aozora.gr.jp/index_pages/sakuhin_se4.html', 'http://www.aozora.gr.jp/index_pages/sakuhin_se5.html', 'http://www.aozora.gr.jp/index_pages/sakuhin_se6.html', 'http://www.aozora.gr.jp/index_pages/sakuhin_se7.html', 'http://www.aozora.gr.jp/index_pages/sakuhin_se8.html', 'http://www.aozora.gr.jp/index_pages/sakuhin_se9.html', 'http://www.aozora.gr.jp/index_pages/sakuhin_se10.html', 'http://www.aozora.gr.jp/index_pages/sakuhin_se11.html', 'http://www.aozora.gr.jp/index_pages/sakuhin_se12.html', 'http://www.aozora.gr.jp/index_pages/sakuhin_se13.html', 'http://www.aozora.gr.jp/index_pages/sakuhin_te1.html', 'http://www.aozora.gr.jp/index_pages/sakuhin_te2.html', 'http://www.aozora.gr.jp/index_pages/sakuhin_te3.html', 'http://www.aozora.gr.jp/index_pages/sakuhin_te4.html', 'http://www.aozora.gr.jp/index_pages/sakuhin_te5.html', 'http://www.aozora.gr.jp/index_pages/sakuhin_te6.html', 'http://www.aozora.gr.jp/index_pages/sakuhin_te7.html', 'http://www.aozora.gr.jp/index_pages/sakuhin_ne1.html', 'http://www.aozora.gr.jp/index_pages/sakuhin_ne2.html', 'http://www.aozora.gr.jp/index_pages/sakuhin_he1.html', 'http://www.aozora.gr.jp/index_pages/sakuhin_he2.html', 'http://www.aozora.gr.jp/index_pages/sakuhin_he3.html', 'http://www.aozora.gr.jp/index_pages/sakuhin_me1.html', 'http://www.aozora.gr.jp/index_pages/sakuhin_me2.html', 'http://www.aozora.gr.jp/index_pages/sakuhin_me3.html', 'http://www.aozora.gr.jp/index_pages/sakuhin_re1.html', 'http://www.aozora.gr.jp/index_pages/sakuhin_re2.html', 'http://www.aozora.gr.jp/index_pages/sakuhin_o1.html', 'http://www.aozora.gr.jp/index_pages/sakuhin_o2.html', 'http://www.aozora.gr.jp/index_pages/sakuhin_o3.html', 'http://www.aozora.gr.jp/index_pages/sakuhin_o4.html', 'http://www.aozora.gr.jp/index_pages/sakuhin_o5.html', 'http://www.aozora.gr.jp/index_pages/sakuhin_o6.html', 'http://www.aozora.gr.jp/index_pages/sakuhin_o7.html', 'http://www.aozora.gr.jp/index_pages/sakuhin_o8.html', 'http://www.aozora.gr.jp/index_pages/sakuhin_o9.html', 'http://www.aozora.gr.jp/index_pages/sakuhin_o10.html', 'http://www.aozora.gr.jp/index_pages/sakuhin_o11.html', 'http://www.aozora.gr.jp/index_pages/sakuhin_ko1.html', 'http://www.aozora.gr.jp/index_pages/sakuhin_ko2.html', 'http://www.aozora.gr.jp/index_pages/sakuhin_ko3.html', 'http://www.aozora.gr.jp/index_pages/sakuhin_ko4.html', 'http://www.aozora.gr.jp/index_pages/sakuhin_ko5.html', 'http://www.aozora.gr.jp/index_pages/sakuhin_ko6.html', 'http://www.aozora.gr.jp/index_pages/sakuhin_ko7.html', 'http://www.aozora.gr.jp/index_pages/sakuhin_ko8.html', 'http://www.aozora.gr.jp/index_pages/sakuhin_ko9.html', 'http://www.aozora.gr.jp/index_pages/sakuhin_ko10.html', 'http://www.aozora.gr.jp/index_pages/sakuhin_ko11.html', 'http://www.aozora.gr.jp/index_pages/sakuhin_ko12.html', 'http://www.aozora.gr.jp/index_pages/sakuhin_ko13.html', 'http://www.aozora.gr.jp/index_pages/sakuhin_ko14.html', 'http://www.aozora.gr.jp/index_pages/sakuhin_so1.html', 'http://www.aozora.gr.jp/index_pages/sakuhin_so2.html', 'http://www.aozora.gr.jp/index_pages/sakuhin_so3.html', 'http://www.aozora.gr.jp/index_pages/sakuhin_so4.html', 'http://www.aozora.gr.jp/index_pages/sakuhin_so5.html', 'http://www.aozora.gr.jp/index_pages/sakuhin_to1.html', 'http://www.aozora.gr.jp/index_pages/sakuhin_to2.html', 'http://www.aozora.gr.jp/index_pages/sakuhin_to3.html', 'http://www.aozora.gr.jp/index_pages/sakuhin_to4.html', 'http://www.aozora.gr.jp/index_pages/sakuhin_to5.html', 'http://www.aozora.gr.jp/index_pages/sakuhin_to6.html', 'http://www.aozora.gr.jp/index_pages/sakuhin_to7.html', 'http://www.aozora.gr.jp/index_pages/sakuhin_to8.html', 'http://www.aozora.gr.jp/index_pages/sakuhin_to9.html', 'http://www.aozora.gr.jp/index_pages/sakuhin_no1.html', 'http://www.aozora.gr.jp/index_pages/sakuhin_no2.html', 'http://www.aozora.gr.jp/index_pages/sakuhin_ho1.html', 'http://www.aozora.gr.jp/index_pages/sakuhin_ho2.html', 'http://www.aozora.gr.jp/index_pages/sakuhin_ho3.html', 'http://www.aozora.gr.jp/index_pages/sakuhin_ho4.html', 'http://www.aozora.gr.jp/index_pages/sakuhin_ho5.html', 'http://www.aozora.gr.jp/index_pages/sakuhin_ho6.html', 'http://www.aozora.gr.jp/index_pages/sakuhin_mo1.html', 'http://www.aozora.gr.jp/index_pages/sakuhin_mo2.html', 'http://www.aozora.gr.jp/index_pages/sakuhin_mo3.html', 'http://www.aozora.gr.jp/index_pages/sakuhin_yo1.html', 'http://www.aozora.gr.jp/index_pages/sakuhin_yo2.html', 'http://www.aozora.gr.jp/index_pages/sakuhin_yo3.html', 'http://www.aozora.gr.jp/index_pages/sakuhin_yo4.html', 'http://www.aozora.gr.jp/index_pages/sakuhin_yo5.html', 'http://www.aozora.gr.jp/index_pages/sakuhin_ro1.html', 'http://www.aozora.gr.jp/index_pages/sakuhin_ro2.html', 'http://www.aozora.gr.jp/index_pages/sakuhin_zz1.html']\n"
     ]
    }
   ],
   "source": [
    "read = open('aozora_aiueo.txt','r').read().split('\\n')[:-1]\n",
    "print(read)"
   ]
  },
  {
   "cell_type": "code",
   "execution_count": 7,
   "metadata": {
    "collapsed": false,
    "scrolled": true
   },
   "outputs": [],
   "source": [
    "open('aozora_cards.txt','w').write('')\n",
    "root_url = 'http://www.aozora.gr.jp/'\n",
    "\n",
    "html = url_html(read[3])\n",
    "soup = BeautifulSoup(html,'html.parser')\n",
    "\n",
    "cards = [ root_url+'/'.join(a.get('href').split('/')[1:]) for a in soup.select('a[href^=\"../cards\"]')]\n",
    "with open('aozora_cards.txt','w') as f:\n",
    "    for card in cards:\n",
    "        f.write(card+'\\n')"
   ]
  },
  {
   "cell_type": "code",
   "execution_count": null,
   "metadata": {
    "collapsed": true
   },
   "outputs": [],
   "source": []
  }
 ],
 "metadata": {
  "kernelspec": {
   "display_name": "Python 3",
   "language": "python",
   "name": "python3"
  },
  "language_info": {
   "codemirror_mode": {
    "name": "ipython",
    "version": 3
   },
   "file_extension": ".py",
   "mimetype": "text/x-python",
   "name": "python",
   "nbconvert_exporter": "python",
   "pygments_lexer": "ipython3",
   "version": "3.6.0"
  }
 },
 "nbformat": 4,
 "nbformat_minor": 2
}
