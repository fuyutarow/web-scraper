{
 "cells": [
  {
   "cell_type": "code",
   "execution_count": 2,
   "metadata": {},
   "outputs": [],
   "source": [
    "from requests_html import HTMLSession"
   ]
  },
  {
   "cell_type": "code",
   "execution_count": 3,
   "metadata": {},
   "outputs": [],
   "source": [
    "session = HTMLSession()"
   ]
  },
  {
   "cell_type": "code",
   "execution_count": 6,
   "metadata": {},
   "outputs": [],
   "source": [
    "r = session.get(\"https://cmpss.jp/registration/reg_html/registration.html\")"
   ]
  },
  {
   "cell_type": "code",
   "execution_count": 12,
   "metadata": {},
   "outputs": [
    {
     "name": "stdout",
     "output_type": "stream",
     "text": [
      "--- 選択肢 ---\n",
      "磁性\n",
      "磁気共鳴\n",
      "金属\n",
      "超低温\n",
      "超伝導・密度波\n",
      "分子性固体・有機導体\n",
      "強相関系\n",
      "原子・分子\n",
      "量子エレクトロニクス\n",
      "放射線物理\n",
      "半導体\n",
      "メゾスコピック系・局在\n",
      "光物性\n",
      "誘電体\n",
      "格子欠陥\n",
      "X 線・粒子線\n",
      "フォノン物性\n",
      "プラズマ\n",
      "表面・界面\n",
      "結晶成長\n",
      "統計力学\n",
      "物性基礎論\n",
      "応用数学\n",
      "力学\n",
      "流体物理\n",
      "ソフトマター物理\n",
      "化学物理\n",
      "生物物理\n",
      "量子光学\n",
      "スピントロニクス\n",
      "輸送現象\n",
      "遷移金属酸化物\n",
      "高温超伝導\n",
      "その他\n"
     ]
    }
   ],
   "source": [
    "print(r.html.find('select')[0].text)"
   ]
  },
  {
   "cell_type": "code",
   "execution_count": null,
   "metadata": {},
   "outputs": [],
   "source": []
  }
 ],
 "metadata": {
  "kernelspec": {
   "display_name": "Python 3",
   "language": "python",
   "name": "python3"
  },
  "language_info": {
   "codemirror_mode": {
    "name": "ipython",
    "version": 3
   },
   "file_extension": ".py",
   "mimetype": "text/x-python",
   "name": "python",
   "nbconvert_exporter": "python",
   "pygments_lexer": "ipython3",
   "version": "3.7.2"
  }
 },
 "nbformat": 4,
 "nbformat_minor": 2
}
