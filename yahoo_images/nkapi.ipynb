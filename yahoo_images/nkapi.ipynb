{
 "cells": [
  {
   "cell_type": "code",
   "execution_count": 1,
   "metadata": {
    "collapsed": true
   },
   "outputs": [],
   "source": [
    "def add(a,b):\n",
    "    return a+b"
   ]
  },
  {
   "cell_type": "code",
   "execution_count": 1,
   "metadata": {
    "collapsed": true
   },
   "outputs": [],
   "source": [
    "import urllib\n",
    "from bs4 import BeautifulSoup \n",
    "import pandas as pd "
   ]
  },
  {
   "cell_type": "code",
   "execution_count": 2,
   "metadata": {
    "collapsed": true
   },
   "outputs": [],
   "source": [
    "def url2html(url):\n",
    "    req = urllib.request.Request(url)\n",
    "    res = urllib.request.urlopen(req)\n",
    "    html = res.read()\n",
    "    return html"
   ]
  },
  {
   "cell_type": "code",
   "execution_count": 3,
   "metadata": {
    "collapsed": true
   },
   "outputs": [],
   "source": [
    "def df_race(race_id):\n",
    "    url = 'http://race.netkeiba.com/?pid=race_old&id={}'.format(race_id)\n",
    "    html = url2html(url)\n",
    "    soup = BeautifulSoup(html, 'html.parser')\n",
    "    table = soup.find('table')\n",
    "    data = []\n",
    "    for tr in table.select('tr'):\n",
    "        tds = [ td.text.rsplit()[0] for td in tr.select('td')[1:-2]]\n",
    "        if len(tds):\n",
    "            data.append(tds)\n",
    "    cols = [ th.text for th in table.select('th')][1:8]\n",
    "    df = pd.DataFrame(data, columns=cols)\n",
    "    return df "
   ]
  },
  {
   "cell_type": "code",
   "execution_count": null,
   "metadata": {
    "collapsed": true
   },
   "outputs": [],
   "source": [
    "def df_horse(horse_id):\n",
    "    url = 'http://db.netkeiba.com/horse/{}'.format(horse_id)\n",
    "    return df"
   ]
  },
  {
   "cell_type": "code",
   "execution_count": null,
   "metadata": {
    "collapsed": true
   },
   "outputs": [],
   "source": [
    "def df_jockey(jockey_id):\n",
    "    url = 'http://db.netkeiba.com/jockey/{}'.format(jockey_id)\n",
    "    return df"
   ]
  }
 ],
 "metadata": {
  "kernelspec": {
   "display_name": "Python 3",
   "language": "python",
   "name": "python3"
  },
  "language_info": {
   "codemirror_mode": {
    "name": "ipython",
    "version": 3
   },
   "file_extension": ".py",
   "mimetype": "text/x-python",
   "name": "python",
   "nbconvert_exporter": "python",
   "pygments_lexer": "ipython3",
   "version": "3.6.3"
  }
 },
 "nbformat": 4,
 "nbformat_minor": 2
}
