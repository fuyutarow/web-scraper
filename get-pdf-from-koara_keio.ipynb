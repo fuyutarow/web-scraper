{
 "cells": [
  {
   "cell_type": "markdown",
   "metadata": {},
   "source": [
    "target link\n",
    "\n",
    "http://koara.lib.keio.ac.jp/xoonips/modules/xoonips/listitem.php?index_id=76322"
   ]
  },
  {
   "cell_type": "code",
   "execution_count": 1,
   "metadata": {},
   "outputs": [],
   "source": [
    "import pdfkit"
   ]
  },
  {
   "cell_type": "code",
   "execution_count": null,
   "metadata": {},
   "outputs": [],
   "source": [
    "pdfkit.from_url(\n",
    ")"
   ]
  },
  {
   "cell_type": "code",
   "execution_count": 13,
   "metadata": {},
   "outputs": [],
   "source": [
    "import requests\n",
    "from requests_html import HTMLSession"
   ]
  },
  {
   "cell_type": "code",
   "execution_count": 14,
   "metadata": {},
   "outputs": [],
   "source": [
    "session = HTMLSession()"
   ]
  },
  {
   "cell_type": "code",
   "execution_count": 107,
   "metadata": {},
   "outputs": [
    {
     "data": {
      "text/plain": [
       "['http://koara.lib.keio.ac.jp/xoonips/modules/xoonips/detail.php?koara_id=KO52003002-00000000--001',\n",
       " 'http://koara.lib.keio.ac.jp/xoonips/modules/xoonips/detail.php?koara_id=KO52003002-00000000--002',\n",
       " 'http://koara.lib.keio.ac.jp/xoonips/modules/xoonips/detail.php?koara_id=KO52003002-00000000--003',\n",
       " 'http://koara.lib.keio.ac.jp/xoonips/modules/xoonips/detail.php?koara_id=KO52003002-00000000-0001',\n",
       " 'http://koara.lib.keio.ac.jp/xoonips/modules/xoonips/detail.php?koara_id=KO52003002-00000000-0027',\n",
       " 'http://koara.lib.keio.ac.jp/xoonips/modules/xoonips/detail.php?koara_id=KO52003002-00000000-0091',\n",
       " 'http://koara.lib.keio.ac.jp/xoonips/modules/xoonips/detail.php?koara_id=KO52003002-00000000-0123',\n",
       " 'http://koara.lib.keio.ac.jp/xoonips/modules/xoonips/detail.php?koara_id=KO52003002-00000000-0173',\n",
       " 'http://koara.lib.keio.ac.jp/xoonips/modules/xoonips/detail.php?koara_id=KO52003002-00000000-0209',\n",
       " 'http://koara.lib.keio.ac.jp/xoonips/modules/xoonips/detail.php?koara_id=KO52003002-00000000-0237',\n",
       " 'http://koara.lib.keio.ac.jp/xoonips/modules/xoonips/detail.php?koara_id=KO52003002-00000000-0283',\n",
       " 'http://koara.lib.keio.ac.jp/xoonips/modules/xoonips/detail.php?koara_id=KO52003002-00000000-0319',\n",
       " 'http://koara.lib.keio.ac.jp/xoonips/modules/xoonips/detail.php?koara_id=KO52003002-00000000-0357',\n",
       " 'http://koara.lib.keio.ac.jp/xoonips/modules/xoonips/detail.php?koara_id=KO52003002-00000000-0381',\n",
       " 'http://koara.lib.keio.ac.jp/xoonips/modules/xoonips/detail.php?koara_id=KO52003002-00000000-0391',\n",
       " 'http://koara.lib.keio.ac.jp/xoonips/modules/xoonips/detail.php?koara_id=KO52003002-00000000-0411',\n",
       " 'http://koara.lib.keio.ac.jp/xoonips/modules/xoonips/detail.php?koara_id=KO52003002-00000000-0421',\n",
       " 'http://koara.lib.keio.ac.jp/xoonips/modules/xoonips/detail.php?koara_id=KO52003002-00000000-0431',\n",
       " 'http://koara.lib.keio.ac.jp/xoonips/modules/xoonips/detail.php?koara_id=KO52003002-00000000-0447',\n",
       " 'http://koara.lib.keio.ac.jp/xoonips/modules/xoonips/detail.php?koara_id=KO52003002-00000000-0451']"
      ]
     },
     "execution_count": 107,
     "metadata": {},
     "output_type": "execute_result"
    }
   ],
   "source": [
    "r = session.get(\n",
    "    'http://koara.lib.keio.ac.jp/xoonips/modules/xoonips/listitem.php?index_id=76322'\n",
    ")\n",
    "\n",
    "keyword = 'KO52003002'\n",
    "links = r.html.links\n",
    "links = [link for link in links if keyword in link]\n",
    "links.sort()\n",
    "links"
   ]
  },
  {
   "cell_type": "code",
   "execution_count": 108,
   "metadata": {},
   "outputs": [],
   "source": [
    "htmls = [session.get(link).html for link in links]"
   ]
  },
  {
   "cell_type": "code",
   "execution_count": 118,
   "metadata": {},
   "outputs": [
    {
     "data": {
      "text/plain": [
       "[('表紙',\n",
       "  'http://koara.lib.keio.ac.jp/xoonips/modules/xoonips/download.php/KO52003002-00000000--001.pdf?file_id=132421'),\n",
       " ('まえがき',\n",
       "  'http://koara.lib.keio.ac.jp/xoonips/modules/xoonips/download.php/KO52003002-00000000--002.pdf?file_id=132443'),\n",
       " ('目次',\n",
       "  'http://koara.lib.keio.ac.jp/xoonips/modules/xoonips/download.php/KO52003002-00000000--003.pdf?file_id=132447'),\n",
       " ('第1講 : ファインマン博士の問い掛けへの解答',\n",
       "  'http://koara.lib.keio.ac.jp/xoonips/modules/xoonips/download.php/KO52003002-00000000-0001.pdf?file_id=132449'),\n",
       " ('第2講 : 言語ルール1 : 測定',\n",
       "  'http://koara.lib.keio.ac.jp/xoonips/modules/xoonips/download.php/KO52003002-00000000-0027.pdf?file_id=132451'),\n",
       " ('第3講 : 言語的コペンハーゲン解釈',\n",
       "  'http://koara.lib.keio.ac.jp/xoonips/modules/xoonips/download.php/KO52003002-00000000-0091.pdf?file_id=132453'),\n",
       " ('第4講 : 言語的コペンハーゲン解釈(主に量子系)',\n",
       "  'http://koara.lib.keio.ac.jp/xoonips/modules/xoonips/download.php/KO52003002-00000000-0123.pdf?file_id=132455'),\n",
       " ('第5講 : フィッシャー統計学I',\n",
       "  'http://koara.lib.keio.ac.jp/xoonips/modules/xoonips/download.php/KO52003002-00000000-0173.pdf?file_id=132457'),\n",
       " ('第6講 : 実践論理 : 三段論法を信じますか?',\n",
       "  'http://koara.lib.keio.ac.jp/xoonips/modules/xoonips/download.php/KO52003002-00000000-0209.pdf?file_id=132459'),\n",
       " ('第7講 : 混合測定理論(⊃ベイズ統計学)',\n",
       "  'http://koara.lib.keio.ac.jp/xoonips/modules/xoonips/download.php/KO52003002-00000000-0237.pdf?file_id=132423'),\n",
       " ('第8講 : 言語ルール2 : 因果関係',\n",
       "  'http://koara.lib.keio.ac.jp/xoonips/modules/xoonips/download.php/KO52003002-00000000-0283.pdf?file_id=132425'),\n",
       " ('第9講 : 単純測定と因果関係',\n",
       "  'http://koara.lib.keio.ac.jp/xoonips/modules/xoonips/download.php/KO52003002-00000000-0319.pdf?file_id=132427'),\n",
       " ('第10講 : 「測定は一回だけ」と(量子)因果関係',\n",
       "  'http://koara.lib.keio.ac.jp/xoonips/modules/xoonips/download.php/KO52003002-00000000-0357.pdf?file_id=132429'),\n",
       " ('第11講 : フィッシャー統計学II',\n",
       "  'http://koara.lib.keio.ac.jp/xoonips/modules/xoonips/download.php/KO52003002-00000000-0381.pdf?file_id=132431'),\n",
       " ('第12講 : 「測定は一回だけ」と(古典)因果関係',\n",
       "  'http://koara.lib.keio.ac.jp/xoonips/modules/xoonips/download.php/KO52003002-00000000-0391.pdf?file_id=132433'),\n",
       " ('第13講 : 平衡統計力学(エルゴード仮説と等確率の原理)',\n",
       "  'http://koara.lib.keio.ac.jp/xoonips/modules/xoonips/download.php/KO52003002-00000000-0411.pdf?file_id=132435'),\n",
       " ('第14講 : \"信念\" の確率解釈',\n",
       "  'http://koara.lib.keio.ac.jp/xoonips/modules/xoonips/download.php/KO52003002-00000000-0421.pdf?file_id=132437'),\n",
       " ('第15講 : まとめ・あとがき',\n",
       "  'http://koara.lib.keio.ac.jp/xoonips/modules/xoonips/download.php/KO52003002-00000000-0431.pdf?file_id=132439'),\n",
       " ('参考文献',\n",
       "  'http://koara.lib.keio.ac.jp/xoonips/modules/xoonips/download.php/KO52003002-00000000-0447.pdf?file_id=132441'),\n",
       " ('索引',\n",
       "  'http://koara.lib.keio.ac.jp/xoonips/modules/xoonips/download.php/KO52003002-00000000-0451.pdf?file_id=132445')]"
      ]
     },
     "execution_count": 118,
     "metadata": {},
     "output_type": "execute_result"
    }
   ],
   "source": [
    "def get_title(html):\n",
    "    trs = html.find('tr tr')\n",
    "    xs = [tr.find('td')[1] for tr in trs if 'タイトル' in tr.find('td')[0].text]\n",
    "    title,= [x.text for x in xs]\n",
    "    return title\n",
    "\n",
    "def get_pdflink(html):\n",
    "    pdflink, = [link for link in html.links if 'download' in link]\n",
    "    return pdflink\n",
    "\n",
    "pdf_links = [\n",
    "    (get_title(html), get_pdflink(html))\n",
    "    for html in htmls]\n",
    "pdf_links"
   ]
  },
  {
   "cell_type": "code",
   "execution_count": 119,
   "metadata": {},
   "outputs": [],
   "source": [
    "from pathlib import Path"
   ]
  },
  {
   "cell_type": "code",
   "execution_count": 113,
   "metadata": {},
   "outputs": [],
   "source": [
    "d = Path('Q-lang')\n",
    "d.mkdir()"
   ]
  },
  {
   "cell_type": "code",
   "execution_count": 124,
   "metadata": {},
   "outputs": [],
   "source": [
    "for i, (title, pdflink) in enumerate(pdf_links):\n",
    "    r = requests.get(pdflink)\n",
    "    \n",
    "    with open(d/f'#{i:02}.{title}.pdf', 'bw') as f:\n",
    "        f.write(r.content)"
   ]
  },
  {
   "cell_type": "code",
   "execution_count": 125,
   "metadata": {},
   "outputs": [
    {
     "name": "stdout",
     "output_type": "stream",
     "text": [
      "#00.表紙.pdf\r\n",
      "#01.まえがき.pdf\r\n",
      "#02.目次.pdf\r\n",
      "#03.第1講 : ファインマン博士の問い掛けへの解答.pdf\r\n",
      "#04.第2講 : 言語ルール1 : 測定.pdf\r\n",
      "#05.第3講 : 言語的コペンハーゲン解釈.pdf\r\n",
      "#06.第4講 : 言語的コペンハーゲン解釈(主に量子系).pdf\r\n",
      "#07.第5講 : フィッシャー統計学I.pdf\r\n",
      "#08.第6講 : 実践論理 : 三段論法を信じますか?.pdf\r\n",
      "#09.第7講 : 混合測定理論(⊃ベイズ統計学).pdf\r\n",
      "#10.第8講 : 言語ルール2 : 因果関係.pdf\r\n",
      "#11.第9講 : 単純測定と因果関係.pdf\r\n",
      "#12.第10講 : 「測定は一回だけ」と(量子)因果関係.pdf\r\n",
      "#13.第11講 : フィッシャー統計学II.pdf\r\n",
      "#14.第12講 : 「測定は一回だけ」と(古典)因果関係.pdf\r\n",
      "#15.第13講 : 平衡統計力学(エルゴード仮説と等確率の原理).pdf\r\n",
      "#16.第14講 : \"信念\" の確率解釈.pdf\r\n",
      "#17.第15講 : まとめ・あとがき.pdf\r\n",
      "#18.参考文献.pdf\r\n",
      "#19.索引.pdf\r\n"
     ]
    }
   ],
   "source": [
    "ls Q-lang"
   ]
  }
 ],
 "metadata": {
  "kernelspec": {
   "display_name": "Python 3",
   "language": "python",
   "name": "python3"
  },
  "language_info": {
   "codemirror_mode": {
    "name": "ipython",
    "version": 3
   },
   "file_extension": ".py",
   "mimetype": "text/x-python",
   "name": "python",
   "nbconvert_exporter": "python",
   "pygments_lexer": "ipython3",
   "version": "3.7.0"
  }
 },
 "nbformat": 4,
 "nbformat_minor": 2
}
